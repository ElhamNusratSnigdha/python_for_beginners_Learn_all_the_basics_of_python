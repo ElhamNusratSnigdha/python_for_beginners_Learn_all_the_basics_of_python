{
  "nbformat": 4,
  "nbformat_minor": 0,
  "metadata": {
    "colab": {
      "provenance": []
    },
    "kernelspec": {
      "name": "python3",
      "display_name": "Python 3"
    },
    "language_info": {
      "name": "python"
    }
  },
  "cells": [
    {
      "cell_type": "markdown",
      "metadata": {
        "id": "SHzkmmVbSHNG"
      },
      "source": [
        " # Why Python?\n",
        "\n",
        " * It supports a lot of today’s technology including vast libraries for twitter, data mining, scientific calculations, designing, back-end server for websites, engineering simulations, artificial learning, augmented reality and what not. Also, it supports all kind of App development. Web crawlers used for data mining and all are designed and developed in Python.\n",
        "\n",
        " * It has a large community; solutions to any problems you face can be easily found online.\n",
        "\n",
        " * It is Open Source\n",
        "\n",
        " * It is easily understandable; very close to human language."
      ]
    },
    {
      "cell_type": "markdown",
      "metadata": {
        "id": "44At6uYkSXZ1"
      },
      "source": [
        "Difference between Interpreter and Compiler\n",
        "https://techdifferences.com/difference-between-compiler-and-interpreter.html"
      ]
    },
    {
      "cell_type": "markdown",
      "metadata": {
        "id": "xqwrX9Tx8Eit"
      },
      "source": [
        "# What is Google Colab?\n",
        "\n",
        "* It's a Jupyter notebook environment that requires no setup to use and runs entirely in the cloud.\n",
        "* 12 GB RAM; can be extended to 25 GB for free"
      ]
    },
    {
      "cell_type": "markdown",
      "source": [
        "# **Introduction Python**\n",
        "\n",
        "---"
      ],
      "metadata": {
        "id": "rezKHj3MNd37"
      }
    },
    {
      "cell_type": "markdown",
      "source": [
        "## **Variables**"
      ],
      "metadata": {
        "id": "6cYpasxCWPAX"
      }
    },
    {
      "cell_type": "markdown",
      "source": [
        "Details:\n",
        "* Variables are containers for storing data values.\n",
        "* Dynamic Type - no need to declare type of any variable\n",
        "* must start with a letter or the underscore character\n",
        "* cannot start with a number\n",
        "* can only contain alpha-numeric characters and underscores (A-z, 0-9, and _ )\n",
        "* Variable names are case-sensitive (age, Age and AGE are three different variables)\n",
        "* A variable name cannot be any of the Python keywords. (ex: int, float, str, True, False, break, pass etc.)\n",
        "\n",
        "\n",
        "\n"
      ],
      "metadata": {
        "id": "W4em30YRWaaR"
      }
    },
    {
      "cell_type": "markdown",
      "source": [
        "### **Declaring variables**"
      ],
      "metadata": {
        "id": "uHl3zu6sYQER"
      }
    },
    {
      "cell_type": "code",
      "source": [
        "a = 123 #integer\n",
        "b = 1.23 #float\n",
        "c = 1 + 2j #complex\n",
        "d1 = \"Hello World\" #string with \"\"\n",
        "d2 = 'hello world' #string with ''\n",
        "e = True #boolean\n",
        "f = False #boolean\n",
        "\n",
        "#Printing values\n",
        "print(a)\n",
        "print(b)\n",
        "print(c)\n",
        "print(d1)\n",
        "print(d2)\n",
        "print(e)\n",
        "print(f)\n",
        "\n",
        "#Printing Types\n",
        "print(type(a))\n",
        "print(type(b))\n",
        "print(type(c))\n",
        "print(type(d1))\n",
        "print(type(d2))\n",
        "print(type(e))\n",
        "print(type(f))"
      ],
      "metadata": {
        "colab": {
          "base_uri": "https://localhost:8080/"
        },
        "id": "c-h_hvwxW3xx",
        "outputId": "482fce94-8e1a-459a-a8b4-6a7f9fd9d25e"
      },
      "execution_count": null,
      "outputs": [
        {
          "output_type": "stream",
          "name": "stdout",
          "text": [
            "123\n",
            "1.23\n",
            "(1+2j)\n",
            "Hello World\n",
            "hello world\n",
            "True\n",
            "False\n",
            "<class 'int'>\n",
            "<class 'float'>\n",
            "<class 'complex'>\n",
            "<class 'str'>\n",
            "<class 'str'>\n",
            "<class 'bool'>\n",
            "<class 'bool'>\n"
          ]
        }
      ]
    },
    {
      "cell_type": "markdown",
      "source": [
        "Python allows you to assign values to multiple variables in one line:"
      ],
      "metadata": {
        "id": "rB5bjOxolNTQ"
      }
    },
    {
      "cell_type": "code",
      "source": [
        "x, y, z = \"Orange\", \"Banana\", \"Cherry\"\n",
        "print(x)\n",
        "print(y)\n",
        "print(z)"
      ],
      "metadata": {
        "colab": {
          "base_uri": "https://localhost:8080/"
        },
        "id": "14LvsjUxlOtn",
        "outputId": "f129e16e-c094-47b1-9c95-6bb9bc8ab899"
      },
      "execution_count": null,
      "outputs": [
        {
          "output_type": "stream",
          "name": "stdout",
          "text": [
            "Orange\n",
            "Banana\n",
            "Cherry\n"
          ]
        }
      ]
    },
    {
      "cell_type": "code",
      "source": [
        "x = y = z = \"Orange\"\n",
        "print(x)\n",
        "print(y)\n",
        "print(z)"
      ],
      "metadata": {
        "colab": {
          "base_uri": "https://localhost:8080/"
        },
        "id": "fYgzxVh7lU7Q",
        "outputId": "a1d3e735-0731-4061-e69a-17ea55834619"
      },
      "execution_count": null,
      "outputs": [
        {
          "output_type": "stream",
          "name": "stdout",
          "text": [
            "Orange\n",
            "Orange\n",
            "Orange\n"
          ]
        }
      ]
    },
    {
      "cell_type": "markdown",
      "source": [
        "**Swapping variables**"
      ],
      "metadata": {
        "id": "AyXdrQGQM8O3"
      }
    },
    {
      "cell_type": "code",
      "source": [
        "x,y = 10,11\n",
        "x, y = y, x\n",
        "print(x,y)"
      ],
      "metadata": {
        "colab": {
          "base_uri": "https://localhost:8080/"
        },
        "id": "wOOyNnfBM8jZ",
        "outputId": "a2b2a8ea-9e2b-496c-a087-195046488548"
      },
      "execution_count": 77,
      "outputs": [
        {
          "output_type": "stream",
          "name": "stdout",
          "text": [
            "11 10\n"
          ]
        }
      ]
    },
    {
      "cell_type": "markdown",
      "source": [
        "Printing String with the value"
      ],
      "metadata": {
        "id": "FwwmH3GnbA5h"
      }
    },
    {
      "cell_type": "code",
      "source": [
        "print(\"The value of 'a' is\",a,\", and the value of 'b' is\",b)"
      ],
      "metadata": {
        "id": "Qu641puca-lK",
        "colab": {
          "base_uri": "https://localhost:8080/"
        },
        "outputId": "7496e66e-86cf-4df2-dd22-d03fe2dfccd3"
      },
      "execution_count": null,
      "outputs": [
        {
          "output_type": "stream",
          "name": "stdout",
          "text": [
            "The value of 'a' is 123 , and the value of 'b' is 1.23\n"
          ]
        }
      ]
    },
    {
      "cell_type": "markdown",
      "source": [
        "As python already put a seperator between String and Value without giving space. We can customize Separator."
      ],
      "metadata": {
        "id": "f8ENiI40bFSL"
      }
    },
    {
      "cell_type": "code",
      "source": [
        "print(\"The value of 'a' is\",a, sep=\"\\t\") #\\t == tab(4spaces)"
      ],
      "metadata": {
        "colab": {
          "base_uri": "https://localhost:8080/"
        },
        "id": "EGveq1aPbWSz",
        "outputId": "9239c5a0-3a79-42b2-b988-3bb9f66f01e8"
      },
      "execution_count": null,
      "outputs": [
        {
          "output_type": "stream",
          "name": "stdout",
          "text": [
            "The value of 'a' is\t123\n"
          ]
        }
      ]
    },
    {
      "cell_type": "markdown",
      "source": [
        "You can customize spaces at the end too."
      ],
      "metadata": {
        "id": "db_EYwjYb1fC"
      }
    },
    {
      "cell_type": "code",
      "source": [
        "print(\"The value of 'a' is\",a, end = \"\\n\\n\") #2lines break\n",
        "print(\"Hello\")\n",
        "\n",
        "print(\"\\n\") #newline\n",
        "\n",
        "print(\"The value of 'a' is\",a, end = \"\")\n",
        "print(\"Hello\")"
      ],
      "metadata": {
        "colab": {
          "base_uri": "https://localhost:8080/"
        },
        "id": "QbfyAg0ab9Li",
        "outputId": "44cee2ac-0380-41c6-cda0-a6d65c6819df"
      },
      "execution_count": null,
      "outputs": [
        {
          "output_type": "stream",
          "name": "stdout",
          "text": [
            "The value of 'a' is 123\n",
            "\n",
            "Hello\n",
            "\n",
            "\n",
            "The value of 'a' is 123Hello\n"
          ]
        }
      ]
    },
    {
      "cell_type": "markdown",
      "source": [
        "***Type Casting***"
      ],
      "metadata": {
        "id": "PuA-oL63jzif"
      }
    },
    {
      "cell_type": "markdown",
      "source": [
        "If you want to specify the data type of a variable, this can be done with casting."
      ],
      "metadata": {
        "id": "SHcqrvTKjwNP"
      }
    },
    {
      "cell_type": "code",
      "source": [
        "x = str(3)    # x will be '3'\n",
        "y = int(3)    # y will be 3\n",
        "z = float(3)  # z will be 3.0"
      ],
      "metadata": {
        "id": "Xwr4gRzDkBSJ"
      },
      "execution_count": null,
      "outputs": []
    },
    {
      "cell_type": "markdown",
      "source": [
        "***Calculations:***"
      ],
      "metadata": {
        "id": "Wrr6RwNRYYJq"
      }
    },
    {
      "cell_type": "code",
      "source": [
        "print(\"Addition:\", 5+2)\n",
        "print(\"Subtraction:\", 5-2)\n",
        "print(\"Multiplication:\", 5*2)\n",
        "print(\"Division:\", 5/2)\n",
        "print(\"Prints only Integer part from Division:\", 5//3)\n",
        "print(\"Modulus:\", 5%2)\n",
        "print(\"Power:\", 5**2)"
      ],
      "metadata": {
        "colab": {
          "base_uri": "https://localhost:8080/"
        },
        "id": "zgl_WbRlYOZy",
        "outputId": "61575f3f-aa3a-4c43-9a84-1c489fca8fdf"
      },
      "execution_count": null,
      "outputs": [
        {
          "output_type": "stream",
          "name": "stdout",
          "text": [
            "Addition: 7\n",
            "Subtraction: 3\n",
            "Multiplication: 10\n",
            "Division: 2.5\n",
            "Prints only Integer part from Division: 1\n",
            "Modulus: 1\n",
            "Power: 25\n"
          ]
        }
      ]
    },
    {
      "cell_type": "markdown",
      "source": [
        "### **String**"
      ],
      "metadata": {
        "id": "hWodjj30cjr5"
      }
    },
    {
      "cell_type": "code",
      "source": [
        "x = \"Hi! \"\n",
        "y = \"My name is Elham\"\n",
        "print(x+y)\n",
        "\n",
        "#Another way\n",
        "z = x+y\n",
        "print(z)"
      ],
      "metadata": {
        "colab": {
          "base_uri": "https://localhost:8080/"
        },
        "id": "jCmVNRxkcm5E",
        "outputId": "675c55a1-423a-4188-8b39-4a471c9024b5"
      },
      "execution_count": null,
      "outputs": [
        {
          "output_type": "stream",
          "name": "stdout",
          "text": [
            "Hi! My name is Elham\n",
            "Hi! My name is Elham\n"
          ]
        }
      ]
    },
    {
      "cell_type": "code",
      "source": [
        "name = \"John\"\n",
        "print(\"Hello, %s!\" % name)\n",
        "age = 23\n",
        "print(\"%s is %d years old.\" % (name, age))"
      ],
      "metadata": {
        "colab": {
          "base_uri": "https://localhost:8080/"
        },
        "id": "cpQ3YI44FHcO",
        "outputId": "547f183b-22b9-4453-f101-e08452ed69be"
      },
      "execution_count": 49,
      "outputs": [
        {
          "output_type": "stream",
          "name": "stdout",
          "text": [
            "Hello, John!\n",
            "John is 23 years old.\n"
          ]
        }
      ]
    },
    {
      "cell_type": "markdown",
      "source": [
        "***Accessing Character from a String***"
      ],
      "metadata": {
        "id": "X3ygmrutdGSB"
      }
    },
    {
      "cell_type": "code",
      "source": [
        "print(y[0]) #printing first character from string\n",
        "print(y[3]) #printing any character with index number\n",
        "print(y[len(y)-1]) #printing last character\n",
        "y[-1]"
      ],
      "metadata": {
        "colab": {
          "base_uri": "https://localhost:8080/",
          "height": 87
        },
        "id": "eiakEUWWhcau",
        "outputId": "67b7f33f-7596-46ab-f5d2-37bd0c902a6e"
      },
      "execution_count": null,
      "outputs": [
        {
          "output_type": "stream",
          "name": "stdout",
          "text": [
            "M\n",
            "n\n",
            "m\n"
          ]
        },
        {
          "output_type": "execute_result",
          "data": {
            "text/plain": [
              "'m'"
            ],
            "application/vnd.google.colaboratory.intrinsic+json": {
              "type": "string"
            }
          },
          "metadata": {},
          "execution_count": 11
        }
      ]
    },
    {
      "cell_type": "markdown",
      "source": [
        "***String Slicing:*** y[a:b] -> index a till index b (but b not included)"
      ],
      "metadata": {
        "id": "OPMSLL-CpEtY"
      }
    },
    {
      "cell_type": "code",
      "source": [
        "print(y[0:5]) #till before index 5\n",
        "print(y[:5]) #same [0:5]\n",
        "\n",
        "print(y[5:]) #index 5 to the end\n",
        "\n",
        "print(y[-1]) #last character\n",
        "\n",
        "print(y[-5:]) #last 5 character"
      ],
      "metadata": {
        "colab": {
          "base_uri": "https://localhost:8080/"
        },
        "id": "_Hkuor_XpHRI",
        "outputId": "73972d13-2e62-4c74-9511-545d2d184559"
      },
      "execution_count": null,
      "outputs": [
        {
          "output_type": "stream",
          "name": "stdout",
          "text": [
            "My na\n",
            "My na\n",
            "me is Elham\n",
            "m\n",
            "Elham\n"
          ]
        }
      ]
    },
    {
      "cell_type": "markdown",
      "source": [
        "***Common String Methods*** - methods do not change original value"
      ],
      "metadata": {
        "id": "AEs4HYAki4pc"
      }
    },
    {
      "cell_type": "code",
      "source": [
        "x = \"Elham Nusrat\"\n",
        "print(len(x)) #Printing Length (including spaces)\n",
        "print(len(x.replace(\" \", \"\"))) #Printing Length (without spaces)\n",
        "\n",
        "print(x.upper()) #Printing CAPITALIZED String\n",
        "\n",
        "print(x.lower()) #Printing smaller String\n",
        "\n",
        "print(x.title()) #each word starts with capital character\n",
        "\n",
        "print(x.strip()) #Removing spaces from the start and end\n",
        "\n",
        "print(x.lower().title()) #Printing multiple functions together\n",
        "\n",
        "#'find()' case sensitive\n",
        "print(x.find('Elham')) #finding word or character (gives the position)\n",
        "print(x.find('elham')) #gives (-1) if doesn't exist\n",
        "print(x.find('a')) #gives the position of the character where it first showed up\n",
        "\n",
        "#replacing string\n",
        "print(x.replace(\"Elham\",\"Medusa\")) #changes the original value\n",
        "x_new = x.replace(\"Elham \",\"a Bird \") #doesn't change the original value\n",
        "print(x_new,'\\n',x)\n",
        "\n",
        "#searching a character 'in' a string (gives True/False)\n",
        "print(\"Medusa\" in x)\n",
        "\"name\" in y"
      ],
      "metadata": {
        "colab": {
          "base_uri": "https://localhost:8080/"
        },
        "id": "KfUsTX3ciACU",
        "outputId": "4882f86a-8256-45e0-d7c6-2612ecccddd4"
      },
      "execution_count": null,
      "outputs": [
        {
          "output_type": "stream",
          "name": "stdout",
          "text": [
            "12\n",
            "11\n",
            "ELHAM NUSRAT\n",
            "elham nusrat\n",
            "Elham Nusrat\n",
            "Elham Nusrat\n",
            "Elham Nusrat\n",
            "0\n",
            "-1\n",
            "3\n",
            "Medusa Nusrat\n",
            "a Bird Nusrat \n",
            " Elham Nusrat\n",
            "False\n"
          ]
        },
        {
          "output_type": "execute_result",
          "data": {
            "text/plain": [
              "True"
            ]
          },
          "metadata": {},
          "execution_count": 14
        }
      ]
    },
    {
      "cell_type": "markdown",
      "source": [
        "### **Taking Input from User**"
      ],
      "metadata": {
        "id": "wiRdYFrUwOFk"
      }
    },
    {
      "cell_type": "markdown",
      "source": [
        "use raw_input() method in python 2.7 or earlier version"
      ],
      "metadata": {
        "id": "dOi9KeaYwxiH"
      }
    },
    {
      "cell_type": "code",
      "source": [
        "#keep in mind that input() always returns a string\n",
        "username = input(\"Enter username:\")\n",
        "print(\"Username is\",username)\n",
        "\n",
        "integer_num = int(input(\"Enter a number:\"))\n",
        "print(integer_num*2)\n",
        "\n",
        "float_num = float(input(\"Enter a number:\"))\n",
        "print(float_num*2)"
      ],
      "metadata": {
        "colab": {
          "base_uri": "https://localhost:8080/"
        },
        "id": "mqxz2wVvwcsk",
        "outputId": "db9945ef-be33-4a03-f804-d79a25d71b03"
      },
      "execution_count": null,
      "outputs": [
        {
          "output_type": "stream",
          "name": "stdout",
          "text": [
            "Enter username:Elham\n",
            "Username is Elham\n",
            "Enter a number:8\n",
            "16\n",
            "Enter a number:28\n",
            "56.0\n"
          ]
        }
      ]
    },
    {
      "cell_type": "markdown",
      "source": [
        "##**Data Types** [ [Lists], (Tuples), {Sets}, {Dicti:onaries} ]"
      ],
      "metadata": {
        "id": "uUNF2Ouz1_9e"
      }
    },
    {
      "cell_type": "markdown",
      "source": [
        "### **Lists** (Changeable)\n",
        "*   ordered\n",
        "*   mutable\n",
        "*   can hold a mixture of data types\n",
        "*   no need to declare size beforehand\n",
        "\n"
      ],
      "metadata": {
        "id": "JLF-b1kz20Lu"
      }
    },
    {
      "cell_type": "code",
      "source": [
        "#the simplest way; we'll see more later\n",
        "\n",
        "letters = [\"a\", \"b\", \"c\"]\n",
        "letters"
      ],
      "metadata": {
        "colab": {
          "base_uri": "https://localhost:8080/"
        },
        "id": "iJQIYkVQpU7w",
        "outputId": "33964dab-e315-4eb3-b46e-ec049cfadeb1"
      },
      "execution_count": null,
      "outputs": [
        {
          "output_type": "execute_result",
          "data": {
            "text/plain": [
              "['a', 'b', 'c']"
            ]
          },
          "metadata": {},
          "execution_count": 39
        }
      ]
    },
    {
      "cell_type": "code",
      "source": [
        "#story multiple data types.\n",
        "\n",
        "list = [1, 'c', 5.5]\n",
        "print(list)"
      ],
      "metadata": {
        "colab": {
          "base_uri": "https://localhost:8080/"
        },
        "id": "5qwylOJzpXBH",
        "outputId": "192c9137-7da1-4d7a-f5c9-1faf4d2bee2a"
      },
      "execution_count": null,
      "outputs": [
        {
          "output_type": "stream",
          "name": "stdout",
          "text": [
            "[1, 'c', 5.5]\n"
          ]
        }
      ]
    },
    {
      "cell_type": "code",
      "source": [
        "#Accessing items in lists\n",
        "\n",
        "letters = [\"a\", \"b\", \"c\", \"d\"]\n",
        "letters[0] # \"a\"\n",
        "letters[2]"
      ],
      "metadata": {
        "colab": {
          "base_uri": "https://localhost:8080/",
          "height": 35
        },
        "id": "ZQ2AbAdPpsVA",
        "outputId": "aa523921-4754-4754-edce-908ca1c5faa1"
      },
      "execution_count": null,
      "outputs": [
        {
          "output_type": "execute_result",
          "data": {
            "text/plain": [
              "'c'"
            ],
            "application/vnd.google.colaboratory.intrinsic+json": {
              "type": "string"
            }
          },
          "metadata": {},
          "execution_count": 40
        }
      ]
    },
    {
      "cell_type": "code",
      "source": [
        "my_list = [1, 2, 3, 4, 5] #seems like an Array\n",
        "print(my_list)\n",
        "\n",
        "mixed_list = [1, 2, 3, \"Hi\", [10, 20, 30]] #list inside list\n",
        "print(mixed_list)\n",
        "print(mixed_list[4]) #printing element from the list"
      ],
      "metadata": {
        "colab": {
          "base_uri": "https://localhost:8080/"
        },
        "id": "CckWUNfz2bJe",
        "outputId": "1af45c21-f437-4ddc-b57a-5c95d4c329b3"
      },
      "execution_count": 63,
      "outputs": [
        {
          "output_type": "stream",
          "name": "stdout",
          "text": [
            "[1, 2, 3, 4, 5]\n",
            "[1, 2, 3, 'Hi', [10, 20, 30]]\n",
            "[10, 20, 30]\n"
          ]
        }
      ]
    },
    {
      "cell_type": "code",
      "source": [
        "#Some other ways to create lists\n",
        "\n",
        "matrix = [[0, 1,3], [1, 2,4], [3,4,5]]\n",
        "print(matrix)\n",
        "\n",
        "import numpy\n",
        "numpy.shape(matrix)\n",
        "\n",
        "zeros = [0] * 7\n",
        "print(zeros)\n",
        "\n",
        "combined = zeros + letters\n",
        "print(combined)"
      ],
      "metadata": {
        "colab": {
          "base_uri": "https://localhost:8080/"
        },
        "id": "YrwEjiDitfwJ",
        "outputId": "51dd7f63-8805-4bd7-e1f6-67c8066b5504"
      },
      "execution_count": 65,
      "outputs": [
        {
          "output_type": "stream",
          "name": "stdout",
          "text": [
            "[[0, 1, 3], [1, 2, 4], [3, 4, 5]]\n",
            "[0, 0, 0, 0, 0, 0, 0]\n",
            "[0, 0, 0, 0, 0, 0, 0, 'a', 'b', 'c', 'd']\n"
          ]
        }
      ]
    },
    {
      "cell_type": "markdown",
      "source": [
        "**Unpack a Collection**"
      ],
      "metadata": {
        "id": "Tco4HJJ0lpbJ"
      }
    },
    {
      "cell_type": "code",
      "source": [
        "fruits = [\"apple\", \"banana\", \"cherry\"]\n",
        "x, y, z = fruits\n",
        "print(x)\n",
        "print(y)\n",
        "print(z)"
      ],
      "metadata": {
        "colab": {
          "base_uri": "https://localhost:8080/"
        },
        "id": "eG267o0BlrbY",
        "outputId": "f15b09ce-72f5-4203-8370-287887846b45"
      },
      "execution_count": null,
      "outputs": [
        {
          "output_type": "stream",
          "name": "stdout",
          "text": [
            "apple\n",
            "banana\n",
            "cherry\n"
          ]
        }
      ]
    },
    {
      "cell_type": "markdown",
      "source": [
        "**Lists Methods**"
      ],
      "metadata": {
        "id": "v0fP7jSk4Myn"
      }
    },
    {
      "cell_type": "code",
      "source": [
        "print(len(my_list)) #length of the list\n",
        "\n",
        "print(4 in my_list) #gives boolean value\n",
        "\n",
        "#replace/update an element of the list\n",
        "my_list[4] = 5.0 #changes original value\n",
        "print(my_list)\n",
        "\n",
        "#addining new element at the end\n",
        "my_list.append(6)\n",
        "print(my_list)\n",
        "\n",
        "#inserting an element\n",
        "my_list.insert(2, \"6\")\n",
        "print(my_list)\n",
        "\n",
        "#removing an element\n",
        "my_list.remove(6)\n",
        "print(my_list)\n",
        "\n",
        "#removing an element with index number\n",
        "my_list.pop(3)\n",
        "print(my_list)\n",
        "\n",
        "#deleting a range\n",
        "del my_list[0:2]\n",
        "print(my_list)\n",
        "\n",
        "matrix.sort()\n",
        "matrix.sort(reverse=True)\n",
        "#returns a new list\n",
        "sorted(matrix)"
      ],
      "metadata": {
        "colab": {
          "base_uri": "https://localhost:8080/",
          "height": 383
        },
        "id": "YZJqOY8a4QVm",
        "outputId": "7e8494e5-79fe-4b7b-a7a4-31ffdd446688"
      },
      "execution_count": 66,
      "outputs": [
        {
          "output_type": "stream",
          "name": "stdout",
          "text": [
            "5\n",
            "True\n",
            "[1, 2, 3, 4, 5.0]\n",
            "[1, 2, 3, 4, 5.0, 6]\n",
            "[1, 2, '6', 3, 4, 5.0, 6]\n",
            "[1, 2, '6', 3, 4, 5.0]\n",
            "[1, 2, '6', 4, 5.0]\n",
            "['6', 4, 5.0]\n"
          ]
        },
        {
          "output_type": "error",
          "ename": "TypeError",
          "evalue": "ignored",
          "traceback": [
            "\u001b[0;31m---------------------------------------------------------------------------\u001b[0m",
            "\u001b[0;31mTypeError\u001b[0m                                 Traceback (most recent call last)",
            "\u001b[0;32m<ipython-input-66-3c0b967ff177>\u001b[0m in \u001b[0;36m<cell line: 30>\u001b[0;34m()\u001b[0m\n\u001b[1;32m     28\u001b[0m \u001b[0;34m\u001b[0m\u001b[0m\n\u001b[1;32m     29\u001b[0m \u001b[0mmatrix\u001b[0m\u001b[0;34m.\u001b[0m\u001b[0msort\u001b[0m\u001b[0;34m(\u001b[0m\u001b[0;34m)\u001b[0m\u001b[0;34m\u001b[0m\u001b[0;34m\u001b[0m\u001b[0m\n\u001b[0;32m---> 30\u001b[0;31m \u001b[0mmy_list\u001b[0m\u001b[0;34m.\u001b[0m\u001b[0msort\u001b[0m\u001b[0;34m(\u001b[0m\u001b[0mreverse\u001b[0m\u001b[0;34m=\u001b[0m\u001b[0;32mTrue\u001b[0m\u001b[0;34m)\u001b[0m\u001b[0;34m\u001b[0m\u001b[0;34m\u001b[0m\u001b[0m\n\u001b[0m\u001b[1;32m     31\u001b[0m \u001b[0;31m#returns a new list\u001b[0m\u001b[0;34m\u001b[0m\u001b[0;34m\u001b[0m\u001b[0m\n\u001b[1;32m     32\u001b[0m \u001b[0msorted\u001b[0m\u001b[0;34m(\u001b[0m\u001b[0mmy_list\u001b[0m\u001b[0;34m)\u001b[0m\u001b[0;34m\u001b[0m\u001b[0;34m\u001b[0m\u001b[0m\n",
            "\u001b[0;31mTypeError\u001b[0m: '<' not supported between instances of 'str' and 'int'"
          ]
        }
      ]
    },
    {
      "cell_type": "markdown",
      "source": [
        "**Slicing Lists** (start : end : increment)"
      ],
      "metadata": {
        "id": "ceJymBl_5_PQ"
      }
    },
    {
      "cell_type": "code",
      "source": [
        "char_list = ['a', 'b', 'c', 'd', 'e', 'f']\n",
        "print(char_list[0]) #first element\n",
        "\n",
        "print (char_list[0:3]) #ends at index 2\n",
        "print (char_list[:3]) #same [0:3]\n",
        "\n",
        "print (char_list[3:]) #goes till end\n",
        "\n",
        "print (char_list[-1]) #last element\n",
        "\n",
        "print (char_list[-3:])"
      ],
      "metadata": {
        "colab": {
          "base_uri": "https://localhost:8080/"
        },
        "id": "wPr6clj_6EDg",
        "outputId": "79105620-b358-4d54-886e-35122d1da54f"
      },
      "execution_count": null,
      "outputs": [
        {
          "output_type": "stream",
          "name": "stdout",
          "text": [
            "a\n",
            "['a', 'b', 'c']\n",
            "['a', 'b', 'c']\n",
            "['d', 'e', 'f']\n",
            "f\n",
            "['d', 'e', 'f']\n"
          ]
        }
      ]
    },
    {
      "cell_type": "markdown",
      "source": [
        "**Advance Slicing**"
      ],
      "metadata": {
        "id": "NpId6BZ778_w"
      }
    },
    {
      "cell_type": "code",
      "source": [
        "print(char_list[0:4:2]) #[start:ends before:jump]\n",
        "\n",
        "print(char_list[::2])\n",
        "\n",
        "print(char_list[::-1]) #reverse the List\n",
        "\n",
        "print(char_list[-1:-5:-1]) #print last 4 elements reverse order\n",
        "\n",
        "print(char_list[-2:-6:-1]) #print 2nd to 5th element reverse order\n",
        "print(char_list[4:0:-1])"
      ],
      "metadata": {
        "colab": {
          "base_uri": "https://localhost:8080/"
        },
        "id": "lH9FU_hW8pH4",
        "outputId": "6674307e-7aa2-4f6c-8ad2-a2bc44176cce"
      },
      "execution_count": null,
      "outputs": [
        {
          "output_type": "stream",
          "name": "stdout",
          "text": [
            "['a', 'c']\n",
            "['a', 'c', 'e']\n",
            "['f', 'e', 'd', 'c', 'b', 'a']\n",
            "['f', 'e', 'd', 'c']\n",
            "['e', 'd', 'c', 'b']\n",
            "['e', 'd', 'c', 'b']\n"
          ]
        }
      ]
    },
    {
      "cell_type": "code",
      "source": [
        "print(len(letters))\n",
        "print(letters[-1:-5:-1]) #going backwards"
      ],
      "metadata": {
        "colab": {
          "base_uri": "https://localhost:8080/"
        },
        "id": "MFScdP7Aqq_Q",
        "outputId": "95881f68-8f03-4cb8-d92e-3a60257b898d"
      },
      "execution_count": null,
      "outputs": [
        {
          "output_type": "stream",
          "name": "stdout",
          "text": [
            "4\n",
            "['d', 'c', 'b', 'a']\n"
          ]
        }
      ]
    },
    {
      "cell_type": "markdown",
      "source": [
        "Matrix -> list of lists\n",
        "```\n",
        "[1 2 3 4]\n",
        "[5 6 7 8]\n",
        "```\n",
        "\n"
      ],
      "metadata": {
        "id": "1A6J-8bv-dgR"
      }
    },
    {
      "cell_type": "code",
      "source": [
        "mat = [[1,2,3,4],[5,6,7,8]]\n",
        "print (mat[1][2]) #[row][col]"
      ],
      "metadata": {
        "colab": {
          "base_uri": "https://localhost:8080/"
        },
        "id": "1gYobnOe-iJZ",
        "outputId": "bdfd40a8-19aa-4fe3-aaf2-0d81f71e40cb"
      },
      "execution_count": null,
      "outputs": [
        {
          "output_type": "stream",
          "name": "stdout",
          "text": [
            "7\n"
          ]
        }
      ]
    },
    {
      "cell_type": "markdown",
      "source": [
        "**Some other ways to create lists**"
      ],
      "metadata": {
        "id": "g3HgCHSBH97e"
      }
    },
    {
      "cell_type": "code",
      "source": [
        "import numpy\n",
        "numpy.shape(matrix)\n",
        "\n",
        "zeros = [0] * 7\n",
        "print(zeros)\n",
        "\n",
        "combined = zeros + letters\n",
        "print(combined)"
      ],
      "metadata": {
        "colab": {
          "base_uri": "https://localhost:8080/"
        },
        "id": "ZeNFYyzmH6v_",
        "outputId": "ea492dc4-cbc7-4975-861f-e8a515763bab"
      },
      "execution_count": 55,
      "outputs": [
        {
          "output_type": "stream",
          "name": "stdout",
          "text": [
            "[0, 0, 0, 0, 0, 0, 0]\n",
            "[0, 0, 0, 0, 0, 0, 0, 'a', 'b', 'c', 'd']\n"
          ]
        }
      ]
    },
    {
      "cell_type": "markdown",
      "source": [
        "### **Tuples** (Unchangeable)\n",
        "\n"
      ],
      "metadata": {
        "id": "fEhBlv7W_H35"
      }
    },
    {
      "cell_type": "markdown",
      "source": [
        "**Tuples cannot be updated; Therefore, they are called immutable**"
      ],
      "metadata": {
        "id": "ZlolPG6cMGf6"
      }
    },
    {
      "cell_type": "code",
      "source": [
        "tup = (1,2,3,4,5)\n",
        "print(tup[0])"
      ],
      "metadata": {
        "colab": {
          "base_uri": "https://localhost:8080/"
        },
        "id": "YnM8tufS_jPS",
        "outputId": "07ba67b4-7871-43b5-a81a-d68d0f27d2f1"
      },
      "execution_count": null,
      "outputs": [
        {
          "output_type": "stream",
          "name": "stdout",
          "text": [
            "1\n"
          ]
        }
      ]
    },
    {
      "cell_type": "markdown",
      "source": [
        "**Tuple Methods** (same as Lists)"
      ],
      "metadata": {
        "id": "Unf8afXKC2uE"
      }
    },
    {
      "cell_type": "code",
      "source": [
        "print(len(tup)) #length of the tuple\n",
        "\n",
        "print(4 in tup) #gives boolean value"
      ],
      "metadata": {
        "colab": {
          "base_uri": "https://localhost:8080/"
        },
        "id": "VDxVoBAxCmk0",
        "outputId": "cf9d1781-943a-47d5-fafc-37d87f31a1b0"
      },
      "execution_count": null,
      "outputs": [
        {
          "output_type": "stream",
          "name": "stdout",
          "text": [
            "5\n",
            "True\n"
          ]
        }
      ]
    },
    {
      "cell_type": "code",
      "source": [
        "'''\n",
        "#replace/update an element of the Tuple (not Possible)\n",
        "tup[4] = 5.0\n",
        "print(tup)\n",
        "\n",
        "#addining new element at the end (not Possible)\n",
        "tup.append(6)\n",
        "print(tup)\n",
        "\n",
        "#removing an element (not Possible)\n",
        "tup.remove(6)\n",
        "print(tup)\n",
        "'''\n",
        "\n",
        "point = (1, 2, 3)\n",
        "print(point[0])\n",
        "\n",
        "point[0] = 9 #not possible\n",
        "print(point)\n",
        "\n",
        "print(point[0:2]) # (1, 2)"
      ],
      "metadata": {
        "colab": {
          "base_uri": "https://localhost:8080/",
          "height": 262
        },
        "id": "OqX8g3ioB_E8",
        "outputId": "f01b47cb-e329-4d33-9765-19abbf9f5bbc"
      },
      "execution_count": 75,
      "outputs": [
        {
          "output_type": "stream",
          "name": "stdout",
          "text": [
            "1\n"
          ]
        },
        {
          "output_type": "error",
          "ename": "TypeError",
          "evalue": "ignored",
          "traceback": [
            "\u001b[0;31m---------------------------------------------------------------------------\u001b[0m",
            "\u001b[0;31mTypeError\u001b[0m                                 Traceback (most recent call last)",
            "\u001b[0;32m<ipython-input-75-fccc9e8de733>\u001b[0m in \u001b[0;36m<cell line: 18>\u001b[0;34m()\u001b[0m\n\u001b[1;32m     16\u001b[0m \u001b[0mprint\u001b[0m\u001b[0;34m(\u001b[0m\u001b[0mpoint\u001b[0m\u001b[0;34m[\u001b[0m\u001b[0;36m0\u001b[0m\u001b[0;34m]\u001b[0m\u001b[0;34m)\u001b[0m\u001b[0;34m\u001b[0m\u001b[0;34m\u001b[0m\u001b[0m\n\u001b[1;32m     17\u001b[0m \u001b[0;34m\u001b[0m\u001b[0m\n\u001b[0;32m---> 18\u001b[0;31m \u001b[0mpoint\u001b[0m\u001b[0;34m[\u001b[0m\u001b[0;36m0\u001b[0m\u001b[0;34m]\u001b[0m \u001b[0;34m=\u001b[0m \u001b[0;36m9\u001b[0m\u001b[0;34m\u001b[0m\u001b[0;34m\u001b[0m\u001b[0m\n\u001b[0m\u001b[1;32m     19\u001b[0m \u001b[0mprint\u001b[0m\u001b[0;34m(\u001b[0m\u001b[0mpoint\u001b[0m\u001b[0;34m)\u001b[0m\u001b[0;34m\u001b[0m\u001b[0;34m\u001b[0m\u001b[0m\n\u001b[1;32m     20\u001b[0m \u001b[0;34m\u001b[0m\u001b[0m\n",
            "\u001b[0;31mTypeError\u001b[0m: 'tuple' object does not support item assignment"
          ]
        }
      ]
    },
    {
      "cell_type": "markdown",
      "source": [
        "**Slicing Tuple**"
      ],
      "metadata": {
        "id": "dOGvJwAhCxP9"
      }
    },
    {
      "cell_type": "code",
      "source": [
        "tup = ('a', 'b', 'c', 'd', 'e', 'f')\n",
        "print(tup[0]) #first element\n",
        "\n",
        "print (tup[0:3]) #ends at index 2\n",
        "print (tup[:3]) #same [0:3]\n",
        "\n",
        "print (tup[3:]) #goes till end\n",
        "\n",
        "print (tup[-1]) #last element\n",
        "\n",
        "print (tup[-3:])"
      ],
      "metadata": {
        "colab": {
          "base_uri": "https://localhost:8080/"
        },
        "id": "j1bL-TJ_CsFk",
        "outputId": "3d421cd8-b574-40e7-e7e0-e24068d51728"
      },
      "execution_count": null,
      "outputs": [
        {
          "output_type": "stream",
          "name": "stdout",
          "text": [
            "a\n",
            "('a', 'b', 'c')\n",
            "('a', 'b', 'c')\n",
            "('d', 'e', 'f')\n",
            "f\n",
            "('d', 'e', 'f')\n"
          ]
        }
      ]
    },
    {
      "cell_type": "markdown",
      "source": [
        "###**Sets**\n",
        "* No index, no duplicates\n",
        "* Sets are unordered\n",
        "* You cannot access items in a set by referring to an index. Since sets are unordered, the items have no index.\n",
        "*   But you can loop through the set items using a **for** loop, or ask if a specified value is present in a set by using the **in** keyword.\n",
        "\n"
      ],
      "metadata": {
        "id": "ZEhwCcqwDdAs"
      }
    },
    {
      "cell_type": "code",
      "source": [
        "set1 = {\"apple\", \"banana\", \"cherry\", \"apple\"}\n",
        "print(set1)"
      ],
      "metadata": {
        "colab": {
          "base_uri": "https://localhost:8080/"
        },
        "id": "vNhUHgKCFPfH",
        "outputId": "4df9e0d4-fa87-4ba5-c4de-b0e950a2eb2c"
      },
      "execution_count": null,
      "outputs": [
        {
          "output_type": "stream",
          "name": "stdout",
          "text": [
            "{'apple', 'banana', 'cherry'}\n"
          ]
        }
      ]
    },
    {
      "cell_type": "code",
      "source": [
        "vowels = {'a', 'e', 'i','i','i', 'o', 'u','u'} #set\n",
        "print(vowels)   #unordered and unique values\n",
        "\n",
        "first = {1, 2, 3, 4}\n",
        "second = {1, 5}\n",
        "\n",
        "print(first | second) # {1, 2, 3, 4, 5}\n",
        "\n",
        "print(first & second) # {1}\n",
        "\n",
        "print(first - second) # {2, 3, 4}\n",
        "\n",
        "print(first ^ second) # {2, 3, 4, 5}\n",
        "\n",
        "if 1 in first:\n",
        "  print(\"Found one\")\n",
        "else: print(\"Not found\")"
      ],
      "metadata": {
        "colab": {
          "base_uri": "https://localhost:8080/"
        },
        "id": "5FnXfxdJN6IJ",
        "outputId": "b3e2b7d0-bfcb-4f61-c7da-cb0624c789b2"
      },
      "execution_count": 80,
      "outputs": [
        {
          "output_type": "stream",
          "name": "stdout",
          "text": [
            "{'i', 'o', 'a', 'u', 'e'}\n",
            "{1, 2, 3, 4, 5}\n",
            "{1}\n",
            "{2, 3, 4}\n",
            "{2, 3, 4, 5}\n",
            "Found one\n"
          ]
        }
      ]
    },
    {
      "cell_type": "markdown",
      "source": [
        "**Set Methods**"
      ],
      "metadata": {
        "id": "lLAPoUxXGiJ1"
      }
    },
    {
      "cell_type": "code",
      "source": [
        "set1.add(\"orange\")\n",
        "print(set1)"
      ],
      "metadata": {
        "colab": {
          "base_uri": "https://localhost:8080/"
        },
        "id": "c5F0kX3WGbo-",
        "outputId": "4030a189-78ee-4995-9814-f9ec6a1526bb"
      },
      "execution_count": null,
      "outputs": [
        {
          "output_type": "stream",
          "name": "stdout",
          "text": [
            "{'apple', 'orange', 'banana', 'cherry'}\n"
          ]
        }
      ]
    },
    {
      "cell_type": "code",
      "source": [
        "set1.remove(\"orange\")\n",
        "print(set1)"
      ],
      "metadata": {
        "colab": {
          "base_uri": "https://localhost:8080/"
        },
        "id": "rkCZem2MGp8u",
        "outputId": "b31bb985-f325-4d57-a365-588e9a209c53"
      },
      "execution_count": null,
      "outputs": [
        {
          "output_type": "stream",
          "name": "stdout",
          "text": [
            "{'apple', 'banana', 'cherry'}\n"
          ]
        }
      ]
    },
    {
      "cell_type": "markdown",
      "source": [
        "### **Dictionaries**"
      ],
      "metadata": {
        "id": "u_iUbtELG6yY"
      }
    },
    {
      "cell_type": "markdown",
      "source": [
        "Stores data values in [key:value] pairs. Changeable and does not allows duplicates.\n"
      ],
      "metadata": {
        "id": "pQNg0QNwHGl4"
      }
    },
    {
      "cell_type": "code",
      "source": [
        "students = {\n",
        "    101:\"Elham\",\n",
        "    102:\"Nusrat\",\n",
        "    105:\"Snigdha\"\n",
        "}\n",
        "print(students)"
      ],
      "metadata": {
        "colab": {
          "base_uri": "https://localhost:8080/"
        },
        "id": "XORlhP4iHEhd",
        "outputId": "a0c43d05-bae3-4f26-9ac0-1094f65c353a"
      },
      "execution_count": 69,
      "outputs": [
        {
          "output_type": "stream",
          "name": "stdout",
          "text": [
            "{101: 'Elham', 102: 'Nusrat', 105: 'Snigdha'}\n"
          ]
        }
      ]
    },
    {
      "cell_type": "code",
      "source": [
        "print(students[101]) #printing the Value with key"
      ],
      "metadata": {
        "colab": {
          "base_uri": "https://localhost:8080/"
        },
        "id": "CbTAtgbuILY3",
        "outputId": "760affe9-0366-41fe-fafe-4f02277eac46"
      },
      "execution_count": null,
      "outputs": [
        {
          "output_type": "stream",
          "name": "stdout",
          "text": [
            "Elham\n"
          ]
        }
      ]
    },
    {
      "cell_type": "code",
      "source": [
        "students[102] = \"Madusa\" #updating the Value\n",
        "print(students)"
      ],
      "metadata": {
        "colab": {
          "base_uri": "https://localhost:8080/"
        },
        "id": "N8Z2rZ11IRaO",
        "outputId": "03b22bc4-cb38-4a43-ea20-4d0cb39f0d1a"
      },
      "execution_count": null,
      "outputs": [
        {
          "output_type": "stream",
          "name": "stdout",
          "text": [
            "{101: 'Elham', 102: 'Madusa', 105: 'Snigdha'}\n"
          ]
        }
      ]
    },
    {
      "cell_type": "code",
      "source": [
        "students.update({103:\"Hossain\"}) #updating the Dictionary\n",
        "print(students)"
      ],
      "metadata": {
        "colab": {
          "base_uri": "https://localhost:8080/"
        },
        "id": "4j-gKyAPIl02",
        "outputId": "de20604f-eeaf-49de-de9e-070c04d37d51"
      },
      "execution_count": null,
      "outputs": [
        {
          "output_type": "stream",
          "name": "stdout",
          "text": [
            "{101: 'Elham', 102: 'Madusa', 105: 'Snigdha', 103: 'Hossain'}\n"
          ]
        }
      ]
    },
    {
      "cell_type": "code",
      "source": [
        "students.pop(103) #removing an element from the dictionary\n",
        "print(students)"
      ],
      "metadata": {
        "colab": {
          "base_uri": "https://localhost:8080/"
        },
        "id": "ObVDOl0-I-O3",
        "outputId": "f1b5d964-563b-4f11-b66d-ef4922fb4d1d"
      },
      "execution_count": null,
      "outputs": [
        {
          "output_type": "stream",
          "name": "stdout",
          "text": [
            "{101: 'Elham', 102: 'Madusa', 105: 'Snigdha'}\n"
          ]
        }
      ]
    },
    {
      "cell_type": "markdown",
      "source": [
        "## **Conditional Statements**"
      ],
      "metadata": {
        "id": "yKA8KVfIxkqk"
      }
    },
    {
      "cell_type": "markdown",
      "source": [
        "< , > , <= , >= , == , !="
      ],
      "metadata": {
        "id": "PyGNf-9txqhl"
      }
    },
    {
      "cell_type": "code",
      "source": [
        "x = 5\n",
        "y = 6\n",
        "z = 7\n",
        "\n",
        "if x>y:\n",
        "  print(\"max x\")\n",
        "elif x==y:\n",
        "  print(\"x and y are equal\")\n",
        "else:\n",
        "  print(\"max y\")"
      ],
      "metadata": {
        "colab": {
          "base_uri": "https://localhost:8080/"
        },
        "id": "1Hn9J-doxyAE",
        "outputId": "db47cc31-4597-4156-f206-33ed5487a8f3"
      },
      "execution_count": null,
      "outputs": [
        {
          "output_type": "stream",
          "name": "stdout",
          "text": [
            "max y\n"
          ]
        }
      ]
    },
    {
      "cell_type": "code",
      "source": [
        "if x>y and x>z:\n",
        "  print(\"Max x\")\n",
        "else:\n",
        "  print(\"OK\")\n",
        "\n",
        "if x>y or x>z:\n",
        "  print(\"OK\")\n",
        "else:\n",
        "  print(\"not Ok\")"
      ],
      "metadata": {
        "colab": {
          "base_uri": "https://localhost:8080/"
        },
        "id": "ZiM3DmStzATc",
        "outputId": "a0f2bbad-cb24-4e6a-ade5-6e7367cb0dc8"
      },
      "execution_count": null,
      "outputs": [
        {
          "output_type": "stream",
          "name": "stdout",
          "text": [
            "OK\n",
            "not Ok\n"
          ]
        }
      ]
    },
    {
      "cell_type": "code",
      "source": [
        "#nested if\n",
        "if x<10:\n",
        "  print(\"Below 10\")\n",
        "  if x<5:\n",
        "    print(\"Below 5\")\n",
        "  else:\n",
        "    print(\"Above 5\")"
      ],
      "metadata": {
        "colab": {
          "base_uri": "https://localhost:8080/"
        },
        "id": "EzhEtnnSzsqG",
        "outputId": "694cc011-dcf8-4f8f-8b7e-2024b093a3ba"
      },
      "execution_count": null,
      "outputs": [
        {
          "output_type": "stream",
          "name": "stdout",
          "text": [
            "Below 10\n",
            "Above 5\n"
          ]
        }
      ]
    },
    {
      "cell_type": "code",
      "source": [
        "if x<10:\n",
        "  if x<5:\n",
        "    print(\"Below 5\")\n",
        "  else:\n",
        "    print(\"Above 5\")\n",
        "else:\n",
        "  pass #do nothing"
      ],
      "metadata": {
        "colab": {
          "base_uri": "https://localhost:8080/"
        },
        "id": "cEdAhaHw0vfF",
        "outputId": "f1faa609-436b-4a06-dde2-20499a21729b"
      },
      "execution_count": null,
      "outputs": [
        {
          "output_type": "stream",
          "name": "stdout",
          "text": [
            "Above 5\n"
          ]
        }
      ]
    },
    {
      "cell_type": "markdown",
      "source": [
        "**Finding items in List**"
      ],
      "metadata": {
        "id": "EMrqVLlvIl-p"
      }
    },
    {
      "cell_type": "code",
      "source": [
        "letters = [\"a\", \"b\", \"c\", \"d\"]\n",
        "if \"b\" in letters:\n",
        "  print(letters.index(\"b\"))"
      ],
      "metadata": {
        "colab": {
          "base_uri": "https://localhost:8080/"
        },
        "id": "TIONE1hbIiDX",
        "outputId": "8f6136c4-19ab-44ed-cc59-5c8cc239b66d"
      },
      "execution_count": 56,
      "outputs": [
        {
          "output_type": "stream",
          "name": "stdout",
          "text": [
            "1\n"
          ]
        }
      ]
    },
    {
      "cell_type": "markdown",
      "source": [
        "**Finding items in Dictionary**"
      ],
      "metadata": {
        "id": "PUlmQ7OtK4xY"
      }
    },
    {
      "cell_type": "code",
      "source": [
        "if 2 in point:\n",
        "  print(\"found\")\n",
        "else:\n",
        "  print(\"not found\")"
      ],
      "metadata": {
        "id": "rKs_5XtKKz7p"
      },
      "execution_count": null,
      "outputs": []
    },
    {
      "cell_type": "markdown",
      "source": [
        "**FInding items in Tuple**"
      ],
      "metadata": {
        "id": "mYWVtMMBMsfu"
      }
    },
    {
      "cell_type": "code",
      "source": [
        "x, y, z = point\n",
        "print(\"x:\"+str(x))\n",
        "if 1 in point:\n",
        "  print(\"found\")"
      ],
      "metadata": {
        "id": "Dwd12XSbMqve"
      },
      "execution_count": null,
      "outputs": []
    },
    {
      "cell_type": "markdown",
      "source": [
        "## **Loops**"
      ],
      "metadata": {
        "id": "zJi5Ca82hIl8"
      }
    },
    {
      "cell_type": "markdown",
      "source": [
        "### **While Loop**"
      ],
      "metadata": {
        "id": "hGX7mVFhhQUs"
      }
    },
    {
      "cell_type": "code",
      "source": [
        "n = 0\n",
        "while n<10:\n",
        "  print(n)\n",
        "  n = n+1 #n=+1"
      ],
      "metadata": {
        "colab": {
          "base_uri": "https://localhost:8080/"
        },
        "id": "quaijnWMhNJk",
        "outputId": "5089146f-4902-42f8-9d9f-053a8d4702ce"
      },
      "execution_count": 57,
      "outputs": [
        {
          "output_type": "stream",
          "name": "stdout",
          "text": [
            "0\n",
            "1\n",
            "2\n",
            "3\n",
            "4\n",
            "5\n",
            "6\n",
            "7\n",
            "8\n",
            "9\n"
          ]
        }
      ]
    },
    {
      "cell_type": "markdown",
      "source": [
        "### **For Loop**"
      ],
      "metadata": {
        "id": "ceHXUPjUhvq7"
      }
    },
    {
      "cell_type": "markdown",
      "source": [
        "Range function: returns a range object, which is nothing but a sequence of integers.\n",
        "Syntax: range(start,end,step)\n",
        "* end is exclusive\n",
        "* start is inclusive"
      ],
      "metadata": {
        "id": "59OGmrG4Fn1Y"
      }
    },
    {
      "cell_type": "code",
      "source": [
        "for i in range(0,10): #loops run 0 to till 10\n",
        "  print(i)"
      ],
      "metadata": {
        "colab": {
          "base_uri": "https://localhost:8080/"
        },
        "id": "vHJ5Sf5ShzKC",
        "outputId": "6c50f901-f3ba-4333-fb4f-d3654aee8e6f"
      },
      "execution_count": null,
      "outputs": [
        {
          "output_type": "stream",
          "name": "stdout",
          "text": [
            "0\n",
            "1\n",
            "2\n",
            "3\n",
            "4\n",
            "5\n",
            "6\n",
            "7\n",
            "8\n",
            "9\n"
          ]
        }
      ]
    },
    {
      "cell_type": "code",
      "source": [
        "for i in range(0,10,2): #(start,end before,jump)\n",
        "  print(i)"
      ],
      "metadata": {
        "colab": {
          "base_uri": "https://localhost:8080/"
        },
        "id": "C1-0iKPgiHnS",
        "outputId": "e497274c-7494-42be-d751-e34c6f8e4d8f"
      },
      "execution_count": null,
      "outputs": [
        {
          "output_type": "stream",
          "name": "stdout",
          "text": [
            "0\n",
            "2\n",
            "4\n",
            "6\n",
            "8\n"
          ]
        }
      ]
    },
    {
      "cell_type": "markdown",
      "source": [
        "**Looping over list**"
      ],
      "metadata": {
        "id": "Z6oBAjyPI1bv"
      }
    },
    {
      "cell_type": "code",
      "source": [
        "for letter in letters:\n",
        "  print(letter)"
      ],
      "metadata": {
        "id": "0GKsKosYI57v"
      },
      "execution_count": null,
      "outputs": []
    },
    {
      "cell_type": "code",
      "source": [
        "mylist = ['a', 'b', 'c', 'd', 'e']\n",
        "print(mylist)\n",
        "\n",
        "for x in mylist:\n",
        "  print(x)"
      ],
      "metadata": {
        "colab": {
          "base_uri": "https://localhost:8080/"
        },
        "id": "w-U2-nAciQN6",
        "outputId": "7600da4c-3722-4d59-b3e1-95987b2e99c6"
      },
      "execution_count": null,
      "outputs": [
        {
          "output_type": "stream",
          "name": "stdout",
          "text": [
            "['a', 'b', 'c', 'd', 'e']\n",
            "a\n",
            "b\n",
            "c\n",
            "d\n",
            "e\n"
          ]
        }
      ]
    },
    {
      "cell_type": "code",
      "source": [
        "for i in range(0, len(mylist)):\n",
        "  print(\"Index =\",i,\"Value =\",mylist[i])"
      ],
      "metadata": {
        "colab": {
          "base_uri": "https://localhost:8080/"
        },
        "id": "V3BGnPkkimhi",
        "outputId": "ecbaba6d-4c3b-42b3-8724-80678c045ff3"
      },
      "execution_count": null,
      "outputs": [
        {
          "output_type": "stream",
          "name": "stdout",
          "text": [
            "Index = 0 Value = a\n",
            "Index = 1 Value = b\n",
            "Index = 2 Value = c\n",
            "Index = 3 Value = d\n",
            "Index = 4 Value = e\n"
          ]
        }
      ]
    },
    {
      "cell_type": "markdown",
      "source": [
        "**enumerate: returns an enumerate object. In our case that object is a list of tuples, each containing a pair of count/index and value.**"
      ],
      "metadata": {
        "id": "FBSxcDXUJLJ_"
      }
    },
    {
      "cell_type": "code",
      "source": [
        "for index, letter in enumerate(letters):\n",
        "  print(index, end = \" \")\n",
        "  print(letter)"
      ],
      "metadata": {
        "colab": {
          "base_uri": "https://localhost:8080/"
        },
        "id": "cbQo2G6pJYin",
        "outputId": "4f71d821-c3f5-4d13-900b-2db6899b4a5e"
      },
      "execution_count": 58,
      "outputs": [
        {
          "output_type": "stream",
          "name": "stdout",
          "text": [
            "0 a\n",
            "1 b\n",
            "2 c\n",
            "3 d\n"
          ]
        }
      ]
    },
    {
      "cell_type": "markdown",
      "source": [
        "**dict.items(): A view object that displays a list of a given dictionary’s (key, value) tuple pair.**"
      ],
      "metadata": {
        "id": "1b-QN_UJLqqJ"
      }
    },
    {
      "cell_type": "code",
      "source": [
        "for key, value in students.items():\n",
        "  print(key,value)"
      ],
      "metadata": {
        "colab": {
          "base_uri": "https://localhost:8080/"
        },
        "id": "MeRT6SAqLpvw",
        "outputId": "0c382f66-c5db-4e60-9cb9-e1e7b08aa244"
      },
      "execution_count": 74,
      "outputs": [
        {
          "output_type": "stream",
          "name": "stdout",
          "text": [
            "101 Elham\n",
            "102 Nusrat\n",
            "105 Snigdha\n"
          ]
        }
      ]
    },
    {
      "cell_type": "code",
      "source": [
        "#break\n",
        "for x in mylist:\n",
        "  print(x)\n",
        "  if x == \"c\":\n",
        "    break #don't go anymore"
      ],
      "metadata": {
        "colab": {
          "base_uri": "https://localhost:8080/"
        },
        "id": "R6OLeG6QjFkV",
        "outputId": "908a69c9-5310-41ba-fb43-a62d70dd00c9"
      },
      "execution_count": null,
      "outputs": [
        {
          "output_type": "stream",
          "name": "stdout",
          "text": [
            "a\n",
            "b\n",
            "c\n"
          ]
        }
      ]
    },
    {
      "cell_type": "code",
      "source": [
        "#continue\n",
        "for x in mylist:\n",
        "  if x == \"c\":\n",
        "    continue #skipped\n",
        "  print(x)"
      ],
      "metadata": {
        "colab": {
          "base_uri": "https://localhost:8080/"
        },
        "id": "dP0Uibt4jTE8",
        "outputId": "5e677699-87bb-43a5-ae6e-1ca2331f6610"
      },
      "execution_count": null,
      "outputs": [
        {
          "output_type": "stream",
          "name": "stdout",
          "text": [
            "a\n",
            "b\n",
            "d\n",
            "e\n"
          ]
        }
      ]
    },
    {
      "cell_type": "markdown",
      "source": [
        "**Nested loop**"
      ],
      "metadata": {
        "id": "W2zFg1j_j3sD"
      }
    },
    {
      "cell_type": "code",
      "source": [
        "num_list = [1,2,3]\n",
        "alpha_list = ['a','b','c']\n",
        "\n",
        "for number in num_list:\n",
        "  print(number)\n",
        "  for letter in alpha_list:\n",
        "    print(letter)"
      ],
      "metadata": {
        "colab": {
          "base_uri": "https://localhost:8080/"
        },
        "id": "pqxXOq6yj3RL",
        "outputId": "48f1d5d3-6ae5-4b25-fe07-c4068485f14b"
      },
      "execution_count": null,
      "outputs": [
        {
          "output_type": "stream",
          "name": "stdout",
          "text": [
            "1\n",
            "a\n",
            "b\n",
            "c\n",
            "2\n",
            "a\n",
            "b\n",
            "c\n",
            "3\n",
            "a\n",
            "b\n",
            "c\n"
          ]
        }
      ]
    },
    {
      "cell_type": "markdown",
      "source": [
        "## **Functions/Methods**"
      ],
      "metadata": {
        "id": "VeRgPMsBkh_E"
      }
    },
    {
      "cell_type": "code",
      "source": [
        "def hello_function(): #the function\n",
        "  print(\"Hello!\")\n",
        "\n",
        "hello_function() #calling the function"
      ],
      "metadata": {
        "colab": {
          "base_uri": "https://localhost:8080/"
        },
        "id": "S-ata5HJkqib",
        "outputId": "a85b3444-a3d1-4201-a0e3-c124a79e9ac8"
      },
      "execution_count": null,
      "outputs": [
        {
          "output_type": "stream",
          "name": "stdout",
          "text": [
            "Hello!\n"
          ]
        }
      ]
    },
    {
      "cell_type": "code",
      "source": [
        "def name_function(fname, lname): #a function with 2parameters\n",
        "  print(fname,lname)\n",
        "\n",
        "name_function(\"Elham\",\"Nusrat\")"
      ],
      "metadata": {
        "colab": {
          "base_uri": "https://localhost:8080/"
        },
        "id": "AHuWFk_plHHk",
        "outputId": "013fdb1d-518b-41cd-a216-36ff72ec8fda"
      },
      "execution_count": null,
      "outputs": [
        {
          "output_type": "stream",
          "name": "stdout",
          "text": [
            "Elham Nusrat\n"
          ]
        }
      ]
    },
    {
      "cell_type": "code",
      "source": [
        "def my_function(firstname, lastname):\n",
        "  print(\"My name is \" + firstname + \" \" + lastname)\n",
        "\n",
        "\n",
        "my_function(\"Elham\", \"Nusrat\")"
      ],
      "metadata": {
        "colab": {
          "base_uri": "https://localhost:8080/"
        },
        "id": "O3yla20dGRsX",
        "outputId": "0a447183-66d7-4e69-c586-af8fbbdc97e6"
      },
      "execution_count": 50,
      "outputs": [
        {
          "output_type": "stream",
          "name": "stdout",
          "text": [
            "My name is Elham Nusrat\n"
          ]
        }
      ]
    },
    {
      "cell_type": "code",
      "source": [
        "#a function with 2parameters and returning value in \"x\"\n",
        "def sum_number(number1,number2):\n",
        "  result = number1 + number2\n",
        "  return result\n",
        "\n",
        "x = sum_number(2,3)\n",
        "print(x)"
      ],
      "metadata": {
        "colab": {
          "base_uri": "https://localhost:8080/"
        },
        "id": "aIcJDHjWloNu",
        "outputId": "16764a24-08e1-414e-e9a6-90ab59713245"
      },
      "execution_count": null,
      "outputs": [
        {
          "output_type": "stream",
          "name": "stdout",
          "text": [
            "5\n"
          ]
        }
      ]
    },
    {
      "cell_type": "code",
      "source": [
        "def increment(number, by):\n",
        "  return number + by\n",
        "\n",
        "n = 1\n",
        "while (n < 10):\n",
        "  print(n)\n",
        "  n = increment(n, by=1)"
      ],
      "metadata": {
        "colab": {
          "base_uri": "https://localhost:8080/"
        },
        "id": "WlHT_N1hGkyH",
        "outputId": "3d1389e4-138c-46e4-af09-ae06961b38b1"
      },
      "execution_count": 52,
      "outputs": [
        {
          "output_type": "stream",
          "name": "stdout",
          "text": [
            "1\n",
            "2\n",
            "3\n",
            "4\n",
            "5\n",
            "6\n",
            "7\n",
            "8\n",
            "9\n"
          ]
        }
      ]
    },
    {
      "cell_type": "code",
      "source": [
        "def increment(number,by=1):\n",
        "  return number+by\n",
        "print(increment(2))\n",
        "print(increment(2,5))"
      ],
      "metadata": {
        "colab": {
          "base_uri": "https://localhost:8080/"
        },
        "id": "63LgjXNpl-hG",
        "outputId": "5d2b469b-a10c-41f1-8837-770b7477eeed"
      },
      "execution_count": 53,
      "outputs": [
        {
          "output_type": "stream",
          "name": "stdout",
          "text": [
            "3\n",
            "7\n"
          ]
        }
      ]
    },
    {
      "cell_type": "code",
      "source": [
        "def print_student_list(*student): #*student works as Tuple here (unchangeable)\n",
        "  for x in student:\n",
        "    print(x)\n",
        "\n",
        "print_student_list(\"Elham\",\"Nusrat\",\"Snigdha\",\"Medusa\", \"Hossain\")"
      ],
      "metadata": {
        "colab": {
          "base_uri": "https://localhost:8080/"
        },
        "id": "OCJ8drg5mWuk",
        "outputId": "fc620197-bf05-4fe7-b040-6e474c1b24ce"
      },
      "execution_count": null,
      "outputs": [
        {
          "output_type": "stream",
          "name": "stdout",
          "text": [
            "Elham\n",
            "Nusrat\n",
            "Snigdha\n",
            "Medusa\n",
            "Hossain\n"
          ]
        }
      ]
    },
    {
      "cell_type": "markdown",
      "source": [
        "scope: the area where a function or variable is visible and accessible to other"
      ],
      "metadata": {
        "id": "LUdCsZlfG5iv"
      }
    },
    {
      "cell_type": "code",
      "source": [
        "x = \"awesome\"\n",
        "\n",
        "def myfunc():\n",
        "  print(\"Python is \" + x)\n",
        "\n",
        "myfunc()"
      ],
      "metadata": {
        "id": "h9-VPSV4mmwD"
      },
      "execution_count": null,
      "outputs": []
    },
    {
      "cell_type": "markdown",
      "source": [
        "# Object-oriented programming (OOP)"
      ],
      "metadata": {
        "id": "PhDA2XUrmTrg"
      }
    },
    {
      "cell_type": "markdown",
      "metadata": {
        "id": "1PRRPK1XBCXA"
      },
      "source": [
        "#Lambda Function:\n",
        "Syntax:\n",
        "* lambda arguments : expression\n",
        "* can take any number of arguments, but can only have one expression\n",
        "\n",
        "\n"
      ]
    },
    {
      "cell_type": "code",
      "metadata": {
        "id": "xSz6k4BPVgqF",
        "colab": {
          "base_uri": "https://localhost:8080/",
          "height": 34
        },
        "outputId": "81fd7829-d0e2-40bf-864f-72e591006591"
      },
      "source": [
        "x = lambda a : a + 10\n",
        "print(x(5))"
      ],
      "execution_count": null,
      "outputs": [
        {
          "output_type": "stream",
          "text": [
            "15\n"
          ],
          "name": "stdout"
        }
      ]
    },
    {
      "cell_type": "code",
      "metadata": {
        "id": "0P4UIv8LBWQN",
        "colab": {
          "base_uri": "https://localhost:8080/",
          "height": 34
        },
        "outputId": "9bd1bd63-c10c-4842-aecf-d3845de9d54e"
      },
      "source": [
        "x = lambda a, b : a * b\n",
        "print(x(10, 3))"
      ],
      "execution_count": null,
      "outputs": [
        {
          "output_type": "stream",
          "text": [
            "30\n"
          ],
          "name": "stdout"
        }
      ]
    },
    {
      "cell_type": "code",
      "metadata": {
        "id": "1wH-3Ys3BWJP",
        "colab": {
          "base_uri": "https://localhost:8080/",
          "height": 34
        },
        "outputId": "675bdaac-cc88-4d87-c2f5-d11b91725c50"
      },
      "source": [
        "x = lambda a, b, c : a + b + c\n",
        "print(x(5, 6, 2))"
      ],
      "execution_count": null,
      "outputs": [
        {
          "output_type": "stream",
          "text": [
            "13\n"
          ],
          "name": "stdout"
        }
      ]
    },
    {
      "cell_type": "code",
      "metadata": {
        "id": "j5mxJbRKBw00"
      },
      "source": [
        "def x(a):\n",
        "  return a+10\n",
        "\n",
        "print(x(5))"
      ],
      "execution_count": null,
      "outputs": []
    },
    {
      "cell_type": "markdown",
      "source": [
        "# **Python Libraries\\Module**"
      ],
      "metadata": {
        "id": "P_4kmw0knDTn"
      }
    },
    {
      "cell_type": "markdown",
      "source": [
        "## **NumPy (Numerical Python)**\n",
        "---\n",
        "\n"
      ],
      "metadata": {
        "id": "BlpANih1nIaV"
      }
    },
    {
      "cell_type": "markdown",
      "source": [
        "\n",
        "*   We use this while working with arrays\n",
        "*   It's faster processing than normal array"
      ],
      "metadata": {
        "id": "RAZdaBQVndON"
      }
    },
    {
      "cell_type": "code",
      "source": [
        "import numpy as np #putting \"numpy\" library on \"np\". \"np\" is a variable\n",
        "#we can get all the methods and funtions with \"np\"\n",
        "\n",
        "arr = np.array([1, 2, 3, 4])\n",
        "print(arr)"
      ],
      "metadata": {
        "colab": {
          "base_uri": "https://localhost:8080/"
        },
        "id": "k2WBFokenGgG",
        "outputId": "c01cf800-07a4-4cfc-8a91-35133ca23883"
      },
      "execution_count": null,
      "outputs": [
        {
          "output_type": "stream",
          "name": "stdout",
          "text": [
            "[1 2 3 4]\n"
          ]
        }
      ]
    },
    {
      "cell_type": "markdown",
      "source": [
        "**Common Methods**"
      ],
      "metadata": {
        "id": "8dXCl-7XqV5-"
      }
    },
    {
      "cell_type": "code",
      "source": [
        "print(len(arr))"
      ],
      "metadata": {
        "colab": {
          "base_uri": "https://localhost:8080/"
        },
        "id": "06B1FqNvpwJ_",
        "outputId": "26493a8c-3738-418f-a2fc-c0f57e51f14b"
      },
      "execution_count": null,
      "outputs": [
        {
          "output_type": "stream",
          "name": "stdout",
          "text": [
            "4\n"
          ]
        }
      ]
    },
    {
      "cell_type": "code",
      "source": [
        "#finding shape (row & column)\n",
        "print(arr.shape)"
      ],
      "metadata": {
        "colab": {
          "base_uri": "https://localhost:8080/"
        },
        "id": "CQRUYLDSqNf2",
        "outputId": "0c9aca1f-1d10-430e-f99c-6019b048f8ba"
      },
      "execution_count": null,
      "outputs": [
        {
          "output_type": "stream",
          "name": "stdout",
          "text": [
            "(4,)\n"
          ]
        }
      ]
    },
    {
      "cell_type": "code",
      "source": [
        "#append\n",
        "x = np.append(arr, [50,60])\n",
        "print(x)"
      ],
      "metadata": {
        "colab": {
          "base_uri": "https://localhost:8080/"
        },
        "id": "yIJfYTd5qYCg",
        "outputId": "666dea4a-ef39-4bc0-9b57-ff881d9f6de9"
      },
      "execution_count": null,
      "outputs": [
        {
          "output_type": "stream",
          "name": "stdout",
          "text": [
            "[ 1  2  3  4 50 60]\n"
          ]
        }
      ]
    },
    {
      "cell_type": "code",
      "source": [
        "#delete\n",
        "x = np.delete(arr,3)\n",
        "print(x)"
      ],
      "metadata": {
        "colab": {
          "base_uri": "https://localhost:8080/"
        },
        "id": "Mb7RZdN1q1mO",
        "outputId": "498473c5-3956-4aa5-cd70-7c8e04997238"
      },
      "execution_count": null,
      "outputs": [
        {
          "output_type": "stream",
          "name": "stdout",
          "text": [
            "[1 2 3]\n"
          ]
        }
      ]
    },
    {
      "cell_type": "code",
      "source": [
        "#Sorting\n",
        "arr = np.array([5,3,7,2])\n",
        "sorted_arr = np.sort(arr)\n",
        "print(sorted_arr)"
      ],
      "metadata": {
        "colab": {
          "base_uri": "https://localhost:8080/"
        },
        "id": "SfGaf_yvEGts",
        "outputId": "4d88dc5e-3fd4-413a-9e41-364e3a78694a"
      },
      "execution_count": null,
      "outputs": [
        {
          "output_type": "stream",
          "name": "stdout",
          "text": [
            "[2 3 5 7]\n"
          ]
        }
      ]
    },
    {
      "cell_type": "code",
      "source": [
        "#printing reverse\n",
        "print(sorted_arr[::-1])"
      ],
      "metadata": {
        "colab": {
          "base_uri": "https://localhost:8080/"
        },
        "id": "UFxUkeSqFTU0",
        "outputId": "150054ff-2d84-4b5a-f9a2-ff43aa7f83a2"
      },
      "execution_count": null,
      "outputs": [
        {
          "output_type": "stream",
          "name": "stdout",
          "text": [
            "[7 5 3 2]\n"
          ]
        }
      ]
    },
    {
      "cell_type": "markdown",
      "source": [
        "**Working with 2d array**"
      ],
      "metadata": {
        "id": "hOdMEyegFc_9"
      }
    },
    {
      "cell_type": "code",
      "source": [
        "arr_2d = np.array([[1,2,3],[4,5,6]])\n",
        "print(arr_2d)\n",
        "print(\"Length of the 2d array:\", len(arr_2d))\n",
        "print(\"Shape of the 2d array:\",arr_2d.shape)\n",
        "print(\"Dimension of the array:\",arr_2d.ndim)"
      ],
      "metadata": {
        "colab": {
          "base_uri": "https://localhost:8080/"
        },
        "id": "gspCKP1eFffz",
        "outputId": "74ba9eb0-bc9f-413d-8eaa-8f3587f2eabd"
      },
      "execution_count": null,
      "outputs": [
        {
          "output_type": "stream",
          "name": "stdout",
          "text": [
            "[[1 2 3]\n",
            " [4 5 6]]\n",
            "Length of the 2d array: 2\n",
            "Shape of the 2d array: (2, 3)\n",
            "Dimension of the array: 2\n"
          ]
        }
      ]
    },
    {
      "cell_type": "markdown",
      "source": [
        "**Indexing with array**"
      ],
      "metadata": {
        "id": "epU-9r9gG8o1"
      }
    },
    {
      "cell_type": "code",
      "source": [
        "#1d\n",
        "arr = np.array([5,3,7,2])\n",
        "print(arr[0])\n",
        "print(arr[-1])"
      ],
      "metadata": {
        "colab": {
          "base_uri": "https://localhost:8080/"
        },
        "id": "XssuQT7bG7aG",
        "outputId": "de5dd2bb-c014-499c-fa79-0c2c5fac8edd"
      },
      "execution_count": null,
      "outputs": [
        {
          "output_type": "stream",
          "name": "stdout",
          "text": [
            "5\n",
            "2\n"
          ]
        }
      ]
    },
    {
      "cell_type": "code",
      "source": [
        "#2d\n",
        "arr = np.array([[1,2,3,4,5],[6,7,8,9,10]])\n",
        "print(arr[1][4]) #[row][col]"
      ],
      "metadata": {
        "colab": {
          "base_uri": "https://localhost:8080/"
        },
        "id": "Bm-Iigw0HXEL",
        "outputId": "33664bd7-3ae3-46bb-a512-222bc430f603"
      },
      "execution_count": null,
      "outputs": [
        {
          "output_type": "stream",
          "name": "stdout",
          "text": [
            "10\n"
          ]
        }
      ]
    },
    {
      "cell_type": "markdown",
      "source": [
        "**Slicing** -> [start : end(not included) : step]"
      ],
      "metadata": {
        "id": "v-k6MJXyH1pe"
      }
    },
    {
      "cell_type": "code",
      "source": [
        "arr = np.array([1,2,3,4,5,6,7])\n",
        "print(arr[4:])\n",
        "print(arr[0:4])\n",
        "print(arr[-3:-1])"
      ],
      "metadata": {
        "colab": {
          "base_uri": "https://localhost:8080/"
        },
        "id": "_skap0DAH35N",
        "outputId": "75b402ec-5451-4b63-9c2f-14558626ff5c"
      },
      "execution_count": null,
      "outputs": [
        {
          "output_type": "stream",
          "name": "stdout",
          "text": [
            "[5 6 7]\n",
            "[1 2 3 4]\n",
            "[5 6]\n"
          ]
        }
      ]
    },
    {
      "cell_type": "code",
      "source": [
        "arr = np.array([[1,2,3,4,5],[6,7,8,9,10]])\n",
        "print(arr[1, 1:len(arr[1])])\n",
        "print(arr[1, 1:5]) #[row, col start:tillend]"
      ],
      "metadata": {
        "colab": {
          "base_uri": "https://localhost:8080/"
        },
        "id": "N92jsCrTIeAk",
        "outputId": "2b5d5648-aa65-416b-e8ce-404093f1e4f6"
      },
      "execution_count": null,
      "outputs": [
        {
          "output_type": "stream",
          "name": "stdout",
          "text": [
            "[ 7  8  9 10]\n",
            "[ 7  8  9 10]\n"
          ]
        }
      ]
    },
    {
      "cell_type": "code",
      "source": [
        "print(arr[0:2, 1:5]) #[row start:till end, col start:till end]"
      ],
      "metadata": {
        "colab": {
          "base_uri": "https://localhost:8080/"
        },
        "id": "YrmcE7ApJkdt",
        "outputId": "bbf32482-47ce-4ac5-c4af-c6395610e75e"
      },
      "execution_count": null,
      "outputs": [
        {
          "output_type": "stream",
          "name": "stdout",
          "text": [
            "[[ 2  3  4  5]\n",
            " [ 7  8  9 10]]\n"
          ]
        }
      ]
    },
    {
      "cell_type": "code",
      "source": [
        "#Printing specific Row & Column\n",
        "print(arr)\n",
        "print(arr[:, 0]) #with : selecting all rows , which col you want\n",
        "print(arr[0, :]) #printing particular row"
      ],
      "metadata": {
        "colab": {
          "base_uri": "https://localhost:8080/"
        },
        "id": "i0fUuoHDKGGl",
        "outputId": "81db23dc-283e-4821-ae70-31d52f897d38"
      },
      "execution_count": null,
      "outputs": [
        {
          "output_type": "stream",
          "name": "stdout",
          "text": [
            "[[ 1  2  3  4  5]\n",
            " [ 6  7  8  9 10]]\n",
            "[1 6]\n",
            "[1 2 3 4 5]\n"
          ]
        }
      ]
    },
    {
      "cell_type": "markdown",
      "source": [
        "**Working with Zero matrix**"
      ],
      "metadata": {
        "id": "CKcRleo2K_wm"
      }
    },
    {
      "cell_type": "code",
      "source": [
        "x = np.zeros(2) #1d\n",
        "print(x)"
      ],
      "metadata": {
        "colab": {
          "base_uri": "https://localhost:8080/"
        },
        "id": "gJijYTyUK9l1",
        "outputId": "4433fbd8-e3b1-4a2c-f48d-63d2209696b9"
      },
      "execution_count": null,
      "outputs": [
        {
          "output_type": "stream",
          "name": "stdout",
          "text": [
            "[0. 0.]\n"
          ]
        }
      ]
    },
    {
      "cell_type": "code",
      "source": [
        "x = np.zeros((4,2)) #2d\n",
        "print(x)"
      ],
      "metadata": {
        "colab": {
          "base_uri": "https://localhost:8080/"
        },
        "id": "EdktHvh2LY2Y",
        "outputId": "aa408d3b-86c3-4fa4-d6b2-23979d40d054"
      },
      "execution_count": null,
      "outputs": [
        {
          "output_type": "stream",
          "name": "stdout",
          "text": [
            "[[0. 0.]\n",
            " [0. 0.]\n",
            " [0. 0.]\n",
            " [0. 0.]]\n"
          ]
        }
      ]
    },
    {
      "cell_type": "markdown",
      "source": [
        "Calculation with NumPy"
      ],
      "metadata": {
        "id": "bolPlNzuL42q"
      }
    },
    {
      "cell_type": "code",
      "source": [
        "a = np.array([3,4,5]) #1d\n",
        "\n",
        "print(\"Matrix Addition: \",a+10,\"\\n\")\n",
        "print(\"Matrix Subtraction: \",a-10,\"\\n\")\n",
        "print(\"Matrix Multiplication: \",a*10,\"\\n\")\n",
        "print(\"Matrix Division: \",a/10,\"\\n\")\n",
        "print(\"Matrix Power: \",a**10,\"\\n\")\n",
        "print(\"Matrix Modulus: \",a%2)"
      ],
      "metadata": {
        "colab": {
          "base_uri": "https://localhost:8080/"
        },
        "id": "N9mH1Wu0Thha",
        "outputId": "f91e6805-d052-496e-f55e-3053a31f2425"
      },
      "execution_count": null,
      "outputs": [
        {
          "output_type": "stream",
          "name": "stdout",
          "text": [
            "Matrix Addition:  [13 14 15] \n",
            "\n",
            "Matrix Subtraction:  [-7 -6 -5] \n",
            "\n",
            "Matrix Multiplication:  [30 40 50] \n",
            "\n",
            "Matrix Division:  [0.3 0.4 0.5] \n",
            "\n",
            "Matrix Power:  [  59049 1048576 9765625] \n",
            "\n",
            "Matrix Modulus:  [1 0 1]\n"
          ]
        }
      ]
    },
    {
      "cell_type": "code",
      "source": [
        "x = np.array([1,2,3,4])\n",
        "y = np.array([10,20,30,40])\n",
        "\n",
        "print(\"y^x:\", y**x)\n",
        "print(\"x^2+y:\", x*2+y)"
      ],
      "metadata": {
        "colab": {
          "base_uri": "https://localhost:8080/"
        },
        "id": "0MnkQfXQUkuq",
        "outputId": "c1f5ffeb-1048-4420-f4a4-1f2a2e3b459e"
      },
      "execution_count": null,
      "outputs": [
        {
          "output_type": "stream",
          "name": "stdout",
          "text": [
            "y^x: [     10     400   27000 2560000]\n",
            "x^2+y: [12 24 36 48]\n"
          ]
        }
      ]
    },
    {
      "cell_type": "code",
      "source": [
        "print(np.sum(a)) #sum of every element of the array\n",
        "print(np.prod(a)) #product of every element of the array"
      ],
      "metadata": {
        "colab": {
          "base_uri": "https://localhost:8080/"
        },
        "id": "c3IcwZb1LbxH",
        "outputId": "ba122f8b-2730-4c4c-e5a2-4d246199d842"
      },
      "execution_count": null,
      "outputs": [
        {
          "output_type": "stream",
          "name": "stdout",
          "text": [
            "12\n",
            "60\n"
          ]
        }
      ]
    },
    {
      "cell_type": "code",
      "source": [
        "a = np.array([[1,2,3],[4,5,6]]) #2d\n",
        "\n",
        "print(np.sum(a)) #sum of every element of the array\n",
        "print(np.prod(a)) #product of every element of the array"
      ],
      "metadata": {
        "colab": {
          "base_uri": "https://localhost:8080/"
        },
        "id": "1akZYcGFL-YP",
        "outputId": "2ab79fda-60a8-4c2e-aab8-a8aeaa68443a"
      },
      "execution_count": null,
      "outputs": [
        {
          "output_type": "stream",
          "name": "stdout",
          "text": [
            "21\n",
            "720\n"
          ]
        }
      ]
    },
    {
      "cell_type": "markdown",
      "source": [
        "**Row & Column wise calculation**"
      ],
      "metadata": {
        "id": "YBCRzlQTMtIv"
      }
    },
    {
      "cell_type": "code",
      "source": [
        "#0-> sum col wise, 1-> sum row wise\n",
        "print(a)\n",
        "print(np.sum(a, axis=0))\n",
        "print(np.sum(a, axis=1))"
      ],
      "metadata": {
        "colab": {
          "base_uri": "https://localhost:8080/"
        },
        "id": "8LjrkiaIMScW",
        "outputId": "feef8b7f-eb8c-45ec-c0a5-9cf7b56424f6"
      },
      "execution_count": null,
      "outputs": [
        {
          "output_type": "stream",
          "name": "stdout",
          "text": [
            "[[1 2 3]\n",
            " [4 5 6]]\n",
            "[5 7 9]\n",
            "[ 6 15]\n"
          ]
        }
      ]
    },
    {
      "cell_type": "code",
      "source": [
        "print(a)\n",
        "print(np.prod(a, axis=0))\n",
        "print(np.prod(a, axis=1))"
      ],
      "metadata": {
        "colab": {
          "base_uri": "https://localhost:8080/"
        },
        "id": "s4DP6-yhNCIP",
        "outputId": "92127359-6317-4e94-bcce-060b5d9e8979"
      },
      "execution_count": null,
      "outputs": [
        {
          "output_type": "stream",
          "name": "stdout",
          "text": [
            "[[1 2 3]\n",
            " [4 5 6]]\n",
            "[ 4 10 18]\n",
            "[  6 120]\n"
          ]
        }
      ]
    },
    {
      "cell_type": "markdown",
      "source": [
        "**Logical Indexing**"
      ],
      "metadata": {
        "id": "KQ2d3Sq9N_Ff"
      }
    },
    {
      "cell_type": "code",
      "source": [
        "a = np.array([[8,2,5],[1,9,0]])\n",
        "print(a>2)\n",
        "\n",
        "#only printing which are True\n",
        "print(a[a>2])\n",
        "\n",
        "#calculating with the True values\n",
        "a[a>2] = a[a>2]+10\n",
        "print(a)\n",
        "\n",
        "a[a>2] = 10\n",
        "print(a)"
      ],
      "metadata": {
        "colab": {
          "base_uri": "https://localhost:8080/"
        },
        "id": "aMowmlYoOBdv",
        "outputId": "552dbada-f5fd-481a-ecd5-4b566e230cd2"
      },
      "execution_count": null,
      "outputs": [
        {
          "output_type": "stream",
          "name": "stdout",
          "text": [
            "[[ True False  True]\n",
            " [False  True False]]\n",
            "[8 5 9]\n",
            "[[18  2 15]\n",
            " [ 1 19  0]]\n",
            "[[10  2 10]\n",
            " [ 1 10  0]]\n"
          ]
        }
      ]
    },
    {
      "cell_type": "code",
      "source": [
        "a = np.array([3,4,5])\n",
        "for x in a:\n",
        "  print(x)"
      ],
      "metadata": {
        "colab": {
          "base_uri": "https://localhost:8080/"
        },
        "id": "OsPyzjmpRe3R",
        "outputId": "e01f87b5-8c75-4815-85ca-a730dd832f44"
      },
      "execution_count": null,
      "outputs": [
        {
          "output_type": "stream",
          "name": "stdout",
          "text": [
            "3\n",
            "4\n",
            "5\n"
          ]
        }
      ]
    },
    {
      "cell_type": "code",
      "source": [
        "a = np.array([[8,2,5],[1,9,0]])\n",
        "for x in a:\n",
        "  print(x)\n",
        "\n",
        "print(\"\\n\")\n",
        "\n",
        "for x in a:\n",
        "  for y in x:\n",
        "    print(y)"
      ],
      "metadata": {
        "colab": {
          "base_uri": "https://localhost:8080/"
        },
        "id": "mnXWfti0Rzno",
        "outputId": "d32a5a51-ef24-4048-fc13-3f7c999f4255"
      },
      "execution_count": null,
      "outputs": [
        {
          "output_type": "stream",
          "name": "stdout",
          "text": [
            "[8 2 5]\n",
            "[1 9 0]\n",
            "\n",
            "\n",
            "8\n",
            "2\n",
            "5\n",
            "1\n",
            "9\n",
            "0\n"
          ]
        }
      ]
    },
    {
      "cell_type": "markdown",
      "source": [
        "**Linspace** -> random number generator"
      ],
      "metadata": {
        "id": "SZU6SHw3SPKq"
      }
    },
    {
      "cell_type": "code",
      "source": [
        "#all even number (0 - 100)\n",
        "x = np.linspace(0,100,51) #(start,end,how many)\n",
        "print(x)"
      ],
      "metadata": {
        "colab": {
          "base_uri": "https://localhost:8080/"
        },
        "id": "5KplKQN1SUnZ",
        "outputId": "4ebc673c-76f8-4742-e567-38e38fb86d59"
      },
      "execution_count": null,
      "outputs": [
        {
          "output_type": "stream",
          "name": "stdout",
          "text": [
            "[  0.   2.   4.   6.   8.  10.  12.  14.  16.  18.  20.  22.  24.  26.\n",
            "  28.  30.  32.  34.  36.  38.  40.  42.  44.  46.  48.  50.  52.  54.\n",
            "  56.  58.  60.  62.  64.  66.  68.  70.  72.  74.  76.  78.  80.  82.\n",
            "  84.  86.  88.  90.  92.  94.  96.  98. 100.]\n"
          ]
        }
      ]
    },
    {
      "cell_type": "code",
      "source": [
        "x = np.linspace(0,10,8) #(start,end,how many)\n",
        "print(x)"
      ],
      "metadata": {
        "colab": {
          "base_uri": "https://localhost:8080/"
        },
        "id": "yGrGnHC1TL3x",
        "outputId": "99b4ecf1-ed5c-4b69-bf29-a652b031f841"
      },
      "execution_count": null,
      "outputs": [
        {
          "output_type": "stream",
          "name": "stdout",
          "text": [
            "[ 0.          1.42857143  2.85714286  4.28571429  5.71428571  7.14285714\n",
            "  8.57142857 10.        ]\n"
          ]
        }
      ]
    },
    {
      "cell_type": "markdown",
      "source": [
        "## **Pandas**"
      ],
      "metadata": {
        "id": "yhuPWtuLneAt"
      }
    },
    {
      "cell_type": "markdown",
      "source": [
        "Mainly used for Data analysis"
      ],
      "metadata": {
        "id": "I8u7JWL4WSsK"
      }
    },
    {
      "cell_type": "code",
      "source": [
        "import pandas as pd\n",
        "#importing Pandas in \"pd\""
      ],
      "metadata": {
        "id": "u8PRfwBzniXl"
      },
      "execution_count": null,
      "outputs": []
    },
    {
      "cell_type": "code",
      "source": [
        "data = {\n",
        "    \"Name\":[\"Elham\",\"Nusrat\",\"Snigdha\"],\n",
        "    \"Age\":[30,40,50]\n",
        "}\n",
        "\n",
        "df = pd.DataFrame(data)\n",
        "print(df)"
      ],
      "metadata": {
        "colab": {
          "base_uri": "https://localhost:8080/"
        },
        "id": "1qnJZyJXWotr",
        "outputId": "56f59be2-a097-417d-8db0-45fd917c348c"
      },
      "execution_count": null,
      "outputs": [
        {
          "output_type": "stream",
          "name": "stdout",
          "text": [
            "      Name  Age\n",
            "0    Elham   30\n",
            "1   Nusrat   40\n",
            "2  Snigdha   50\n"
          ]
        }
      ]
    },
    {
      "cell_type": "code",
      "source": [
        "#accessing element from data\n",
        "print(df.loc[0])"
      ],
      "metadata": {
        "colab": {
          "base_uri": "https://localhost:8080/"
        },
        "id": "favfzjeRXa5M",
        "outputId": "d877e741-fb32-44cf-839b-4b7ee8e07a44"
      },
      "execution_count": null,
      "outputs": [
        {
          "output_type": "stream",
          "name": "stdout",
          "text": [
            "Name    Elham\n",
            "Age        30\n",
            "Name: 0, dtype: object\n"
          ]
        }
      ]
    },
    {
      "cell_type": "markdown",
      "source": [
        "**Reading Value from Database**"
      ],
      "metadata": {
        "id": "OWBaYJh1X8ws"
      }
    },
    {
      "cell_type": "code",
      "source": [
        "df = pd.read_csv('/content/Business Details - June 2022.csv')\n",
        "print(df) #print unorganized"
      ],
      "metadata": {
        "colab": {
          "base_uri": "https://localhost:8080/"
        },
        "id": "9dBem2_cYAsb",
        "outputId": "9851d900-9972-45b1-ccfe-c1141d5323e5"
      },
      "execution_count": null,
      "outputs": [
        {
          "output_type": "stream",
          "name": "stdout",
          "text": [
            "   Topic of the Post  Impressions  Engagement rate\\nIn Percentage (%)  Share  \\\n",
            "0               Poll        680.0                                 1.5    1.0   \n",
            "1   Managed Services         85.0                                 3.5    1.0   \n",
            "2               Blog        122.0                                 6.6    1.0   \n",
            "3               Poll        316.0                                 1.6    1.0   \n",
            "4               Blog        102.0                                 2.0    1.0   \n",
            "5               blog         98.0                                 4.1    1.0   \n",
            "6                NaN          NaN                                 NaN    NaN   \n",
            "7                NaN          NaN                                 NaN    NaN   \n",
            "8                NaN          NaN                                 NaN    NaN   \n",
            "9                NaN          NaN                                 NaN    NaN   \n",
            "10               NaN          NaN                                 NaN    NaN   \n",
            "11               NaN          NaN                                 NaN    NaN   \n",
            "12               NaN          NaN                                 NaN    NaN   \n",
            "13               NaN          NaN                                 NaN    NaN   \n",
            "14               NaN          NaN                                 NaN    NaN   \n",
            "\n",
            "    Reactions  Comment  Click-through rate\\nIn Percentage (%)  Clicks  \\\n",
            "0         1.0      0.0                                    1.2    10.0   \n",
            "1         2.0      0.0                                    0.0     0.0   \n",
            "2         2.0      0.0                                    4.1     5.0   \n",
            "3         1.0      0.0                                    0.9     3.0   \n",
            "4         1.0      0.0                                    0.0     0.0   \n",
            "5         2.0      1.0                                    0.0     0.0   \n",
            "6         NaN      NaN                                    NaN     NaN   \n",
            "7         NaN      NaN                                    NaN     NaN   \n",
            "8         NaN      NaN                                    NaN     NaN   \n",
            "9         NaN      NaN                                    NaN     NaN   \n",
            "10        NaN      NaN                                    NaN     NaN   \n",
            "11        NaN      NaN                                    NaN     NaN   \n",
            "12        NaN      NaN                                    NaN     NaN   \n",
            "13        NaN      NaN                                    NaN     NaN   \n",
            "14        NaN      NaN                                    NaN     NaN   \n",
            "\n",
            "                        Country Reached  Visitors  In Percentage (%)  \\\n",
            "0              Riau Province, Indonesia      15.0               21.0   \n",
            "1              Greater Los Angeles Area       5.0                7.0   \n",
            "2   Raleigh-Durham, North Carolina Area       4.0                6.0   \n",
            "3                  Greater Seattle Area       2.0                3.0   \n",
            "4                 Burhanpur Area, India       2.0                3.0   \n",
            "5                     Sydney, Australia       1.0                1.0   \n",
            "6           The Hague Area, Netherlands       1.0                1.0   \n",
            "7          Cape Town Area, South Africa       1.0                1.0   \n",
            "8           Patos de Minas Area, Brazil       1.0                1.0   \n",
            "9                    Kalyan Area, India       1.0                1.0   \n",
            "10                 Marmagao Area, India       1.0                1.0   \n",
            "11                   Selangor, Malaysia       1.0                1.0   \n",
            "12  Bangkok Metropolitan Area, Thailand       1.0                1.0   \n",
            "13                                Other      35.0               49.0   \n",
            "14                                  NaN       NaN                NaN   \n",
            "\n",
            "                       Industry Reached  Visitors.1  In Percentage (%).1  \\\n",
            "0   Information Technology and Services          35                   49   \n",
            "1                     Computer Software           9                   13   \n",
            "2                             Cosmetics           5                    7   \n",
            "3     Nonprofit Organization Management           3                    4   \n",
            "4       Business Supplies and Equipment           3                    4   \n",
            "5                            E-Learning           2                    3   \n",
            "6                 Management Consulting           1                    1   \n",
            "7                     Apparel & Fashion           1                    1   \n",
            "8                            Accounting           1                    1   \n",
            "9                          Construction           1                    1   \n",
            "10                           Automotive           1                    1   \n",
            "11                     Higher Education           1                    1   \n",
            "12            Marketing and Advertising           1                    1   \n",
            "13                Industrial Automation           1                    1   \n",
            "14                               Others           6                    8   \n",
            "\n",
            "                      Job Function  Visitors.2  In Percentage (%).2  \n",
            "0                      Engineering        28.0                 39.0  \n",
            "1           Information Technology        12.0                 17.0  \n",
            "2             Business Development         7.0                 10.0  \n",
            "3                        Education         3.0                  4.0  \n",
            "4                       Operations         3.0                  4.0  \n",
            "5   Program and Project Management         3.0                  4.0  \n",
            "6                            Sales         3.0                  4.0  \n",
            "7                         Research         2.0                  3.0  \n",
            "8                       Consulting         1.0                  1.0  \n",
            "9                           Others         9.0                 13.0  \n",
            "10                             NaN         NaN                  NaN  \n",
            "11                             NaN         NaN                  NaN  \n",
            "12                             NaN         NaN                  NaN  \n",
            "13                             NaN         NaN                  NaN  \n",
            "14                             NaN         NaN                  NaN  \n"
          ]
        }
      ]
    },
    {
      "cell_type": "code",
      "source": [
        "print(df.to_string()) #print organized"
      ],
      "metadata": {
        "colab": {
          "base_uri": "https://localhost:8080/"
        },
        "id": "X3IjdhkmcHz0",
        "outputId": "51e02f4d-bd70-4b8e-c442-a890a9c3b123"
      },
      "execution_count": null,
      "outputs": [
        {
          "output_type": "stream",
          "name": "stdout",
          "text": [
            "   Topic of the Post  Impressions  Engagement rate\\nIn Percentage (%)  Share  Reactions  Comment  Click-through rate\\nIn Percentage (%)  Clicks                      Country Reached  Visitors  In Percentage (%)                     Industry Reached  Visitors.1  In Percentage (%).1                    Job Function  Visitors.2  In Percentage (%).2\n",
            "0               Poll        680.0                                 1.5    1.0        1.0      0.0                                    1.2    10.0             Riau Province, Indonesia      15.0               21.0  Information Technology and Services          35                   49                     Engineering        28.0                 39.0\n",
            "1   Managed Services         85.0                                 3.5    1.0        2.0      0.0                                    0.0     0.0             Greater Los Angeles Area       5.0                7.0                    Computer Software           9                   13          Information Technology        12.0                 17.0\n",
            "2               Blog        122.0                                 6.6    1.0        2.0      0.0                                    4.1     5.0  Raleigh-Durham, North Carolina Area       4.0                6.0                            Cosmetics           5                    7            Business Development         7.0                 10.0\n",
            "3               Poll        316.0                                 1.6    1.0        1.0      0.0                                    0.9     3.0                 Greater Seattle Area       2.0                3.0    Nonprofit Organization Management           3                    4                       Education         3.0                  4.0\n",
            "4               Blog        102.0                                 2.0    1.0        1.0      0.0                                    0.0     0.0                Burhanpur Area, India       2.0                3.0      Business Supplies and Equipment           3                    4                      Operations         3.0                  4.0\n",
            "5               blog         98.0                                 4.1    1.0        2.0      1.0                                    0.0     0.0                    Sydney, Australia       1.0                1.0                           E-Learning           2                    3  Program and Project Management         3.0                  4.0\n",
            "6                NaN          NaN                                 NaN    NaN        NaN      NaN                                    NaN     NaN          The Hague Area, Netherlands       1.0                1.0                Management Consulting           1                    1                           Sales         3.0                  4.0\n",
            "7                NaN          NaN                                 NaN    NaN        NaN      NaN                                    NaN     NaN         Cape Town Area, South Africa       1.0                1.0                    Apparel & Fashion           1                    1                        Research         2.0                  3.0\n",
            "8                NaN          NaN                                 NaN    NaN        NaN      NaN                                    NaN     NaN          Patos de Minas Area, Brazil       1.0                1.0                           Accounting           1                    1                      Consulting         1.0                  1.0\n",
            "9                NaN          NaN                                 NaN    NaN        NaN      NaN                                    NaN     NaN                   Kalyan Area, India       1.0                1.0                         Construction           1                    1                          Others         9.0                 13.0\n",
            "10               NaN          NaN                                 NaN    NaN        NaN      NaN                                    NaN     NaN                 Marmagao Area, India       1.0                1.0                           Automotive           1                    1                             NaN         NaN                  NaN\n",
            "11               NaN          NaN                                 NaN    NaN        NaN      NaN                                    NaN     NaN                   Selangor, Malaysia       1.0                1.0                     Higher Education           1                    1                             NaN         NaN                  NaN\n",
            "12               NaN          NaN                                 NaN    NaN        NaN      NaN                                    NaN     NaN  Bangkok Metropolitan Area, Thailand       1.0                1.0            Marketing and Advertising           1                    1                             NaN         NaN                  NaN\n",
            "13               NaN          NaN                                 NaN    NaN        NaN      NaN                                    NaN     NaN                                Other      35.0               49.0                Industrial Automation           1                    1                             NaN         NaN                  NaN\n",
            "14               NaN          NaN                                 NaN    NaN        NaN      NaN                                    NaN     NaN                                  NaN       NaN                NaN                               Others           6                    8                             NaN         NaN                  NaN\n"
          ]
        }
      ]
    },
    {
      "cell_type": "code",
      "source": [
        "#Printing First 10 rows/values\n",
        "#print(df.head(10))\n",
        "print(df.head().to_string(),\"\\n\\n\") #head() default prints 5 values\n",
        "\n",
        "print(df.head(10).to_string())"
      ],
      "metadata": {
        "colab": {
          "base_uri": "https://localhost:8080/"
        },
        "id": "ln4DloNVa9Md",
        "outputId": "be130cf9-7889-43c2-81d6-b676e8135d52"
      },
      "execution_count": null,
      "outputs": [
        {
          "output_type": "stream",
          "name": "stdout",
          "text": [
            "  Topic of the Post  Impressions  Engagement rate\\nIn Percentage (%)  Share  Reactions  Comment  Click-through rate\\nIn Percentage (%)  Clicks                      Country Reached  Visitors  In Percentage (%)                     Industry Reached  Visitors.1  In Percentage (%).1            Job Function  Visitors.2  In Percentage (%).2\n",
            "0              Poll        680.0                                 1.5    1.0        1.0      0.0                                    1.2    10.0             Riau Province, Indonesia      15.0               21.0  Information Technology and Services          35                   49             Engineering        28.0                 39.0\n",
            "1  Managed Services         85.0                                 3.5    1.0        2.0      0.0                                    0.0     0.0             Greater Los Angeles Area       5.0                7.0                    Computer Software           9                   13  Information Technology        12.0                 17.0\n",
            "2              Blog        122.0                                 6.6    1.0        2.0      0.0                                    4.1     5.0  Raleigh-Durham, North Carolina Area       4.0                6.0                            Cosmetics           5                    7    Business Development         7.0                 10.0\n",
            "3              Poll        316.0                                 1.6    1.0        1.0      0.0                                    0.9     3.0                 Greater Seattle Area       2.0                3.0    Nonprofit Organization Management           3                    4               Education         3.0                  4.0\n",
            "4              Blog        102.0                                 2.0    1.0        1.0      0.0                                    0.0     0.0                Burhanpur Area, India       2.0                3.0      Business Supplies and Equipment           3                    4              Operations         3.0                  4.0 \n",
            "\n",
            "\n",
            "  Topic of the Post  Impressions  Engagement rate\\nIn Percentage (%)  Share  Reactions  Comment  Click-through rate\\nIn Percentage (%)  Clicks                      Country Reached  Visitors  In Percentage (%)                     Industry Reached  Visitors.1  In Percentage (%).1                    Job Function  Visitors.2  In Percentage (%).2\n",
            "0              Poll        680.0                                 1.5    1.0        1.0      0.0                                    1.2    10.0             Riau Province, Indonesia      15.0               21.0  Information Technology and Services          35                   49                     Engineering        28.0                 39.0\n",
            "1  Managed Services         85.0                                 3.5    1.0        2.0      0.0                                    0.0     0.0             Greater Los Angeles Area       5.0                7.0                    Computer Software           9                   13          Information Technology        12.0                 17.0\n",
            "2              Blog        122.0                                 6.6    1.0        2.0      0.0                                    4.1     5.0  Raleigh-Durham, North Carolina Area       4.0                6.0                            Cosmetics           5                    7            Business Development         7.0                 10.0\n",
            "3              Poll        316.0                                 1.6    1.0        1.0      0.0                                    0.9     3.0                 Greater Seattle Area       2.0                3.0    Nonprofit Organization Management           3                    4                       Education         3.0                  4.0\n",
            "4              Blog        102.0                                 2.0    1.0        1.0      0.0                                    0.0     0.0                Burhanpur Area, India       2.0                3.0      Business Supplies and Equipment           3                    4                      Operations         3.0                  4.0\n",
            "5              blog         98.0                                 4.1    1.0        2.0      1.0                                    0.0     0.0                    Sydney, Australia       1.0                1.0                           E-Learning           2                    3  Program and Project Management         3.0                  4.0\n",
            "6               NaN          NaN                                 NaN    NaN        NaN      NaN                                    NaN     NaN          The Hague Area, Netherlands       1.0                1.0                Management Consulting           1                    1                           Sales         3.0                  4.0\n",
            "7               NaN          NaN                                 NaN    NaN        NaN      NaN                                    NaN     NaN         Cape Town Area, South Africa       1.0                1.0                    Apparel & Fashion           1                    1                        Research         2.0                  3.0\n",
            "8               NaN          NaN                                 NaN    NaN        NaN      NaN                                    NaN     NaN          Patos de Minas Area, Brazil       1.0                1.0                           Accounting           1                    1                      Consulting         1.0                  1.0\n",
            "9               NaN          NaN                                 NaN    NaN        NaN      NaN                                    NaN     NaN                   Kalyan Area, India       1.0                1.0                         Construction           1                    1                          Others         9.0                 13.0\n"
          ]
        }
      ]
    },
    {
      "cell_type": "code",
      "source": [
        "#printing Details\n",
        "print(df.info())"
      ],
      "metadata": {
        "colab": {
          "base_uri": "https://localhost:8080/"
        },
        "id": "Kc5oyfFebnDN",
        "outputId": "18b30ae0-0984-4355-a183-2d0634af655c"
      },
      "execution_count": null,
      "outputs": [
        {
          "output_type": "stream",
          "name": "stdout",
          "text": [
            "<class 'pandas.core.frame.DataFrame'>\n",
            "RangeIndex: 15 entries, 0 to 14\n",
            "Data columns (total 17 columns):\n",
            " #   Column                                Non-Null Count  Dtype  \n",
            "---  ------                                --------------  -----  \n",
            " 0   Topic of the Post                     6 non-null      object \n",
            " 1   Impressions                           6 non-null      float64\n",
            " 2   Engagement rate\n",
            "In Percentage (%)     6 non-null      float64\n",
            " 3   Share                                 6 non-null      float64\n",
            " 4   Reactions                             6 non-null      float64\n",
            " 5   Comment                               6 non-null      float64\n",
            " 6   Click-through rate\n",
            "In Percentage (%)  6 non-null      float64\n",
            " 7   Clicks                                6 non-null      float64\n",
            " 8   Country Reached                       14 non-null     object \n",
            " 9   Visitors                              14 non-null     float64\n",
            " 10  In Percentage (%)                     14 non-null     float64\n",
            " 11  Industry Reached                      15 non-null     object \n",
            " 12  Visitors.1                            15 non-null     int64  \n",
            " 13  In Percentage (%).1                   15 non-null     int64  \n",
            " 14  Job Function                          10 non-null     object \n",
            " 15  Visitors.2                            10 non-null     float64\n",
            " 16  In Percentage (%).2                   10 non-null     float64\n",
            "dtypes: float64(11), int64(2), object(4)\n",
            "memory usage: 2.1+ KB\n",
            "None\n"
          ]
        }
      ]
    },
    {
      "cell_type": "code",
      "source": [
        "#detailed Details\n",
        "print(df.describe())"
      ],
      "metadata": {
        "colab": {
          "base_uri": "https://localhost:8080/"
        },
        "id": "bXfVmlakcb7F",
        "outputId": "52c0ed45-61aa-4124-9cbc-8a734b84c646"
      },
      "execution_count": null,
      "outputs": [
        {
          "output_type": "stream",
          "name": "stdout",
          "text": [
            "       Impressions  Engagement rate\\nIn Percentage (%)  Share  Reactions  \\\n",
            "count     6.000000                            6.000000    6.0   6.000000   \n",
            "mean    233.833333                            3.216667    1.0   1.500000   \n",
            "std     235.076512                            1.967147    0.0   0.547723   \n",
            "min      85.000000                            1.500000    1.0   1.000000   \n",
            "25%      99.000000                            1.700000    1.0   1.000000   \n",
            "50%     112.000000                            2.750000    1.0   1.500000   \n",
            "75%     267.500000                            3.950000    1.0   2.000000   \n",
            "max     680.000000                            6.600000    1.0   2.000000   \n",
            "\n",
            "        Comment  Click-through rate\\nIn Percentage (%)  Clicks   Visitors  \\\n",
            "count  6.000000                               6.000000     6.0  14.000000   \n",
            "mean   0.166667                               1.033333     3.0   5.071429   \n",
            "std    0.408248                               1.590807     4.0   9.392831   \n",
            "min    0.000000                               0.000000     0.0   1.000000   \n",
            "25%    0.000000                               0.000000     0.0   1.000000   \n",
            "50%    0.000000                               0.450000     1.5   1.000000   \n",
            "75%    0.000000                               1.125000     4.5   3.500000   \n",
            "max    1.000000                               4.100000    10.0  35.000000   \n",
            "\n",
            "       In Percentage (%)  Visitors.1  In Percentage (%).1  Visitors.2  \\\n",
            "count          14.000000   15.000000            15.000000   10.000000   \n",
            "mean            6.928571    4.733333             6.400000    7.100000   \n",
            "std            13.245982    8.705226            12.298664    8.130191   \n",
            "min             1.000000    1.000000             1.000000    1.000000   \n",
            "25%             1.000000    1.000000             1.000000    3.000000   \n",
            "50%             1.000000    1.000000             1.000000    3.000000   \n",
            "75%             5.250000    4.000000             5.500000    8.500000   \n",
            "max            49.000000   35.000000            49.000000   28.000000   \n",
            "\n",
            "       In Percentage (%).2  \n",
            "count            10.000000  \n",
            "mean              9.900000  \n",
            "std              11.415876  \n",
            "min               1.000000  \n",
            "25%               4.000000  \n",
            "50%               4.000000  \n",
            "75%              12.250000  \n",
            "max              39.000000  \n"
          ]
        }
      ]
    },
    {
      "cell_type": "markdown",
      "source": [
        "**Mean, Median, Mode**"
      ],
      "metadata": {
        "id": "bksEfYJIdVK1"
      }
    },
    {
      "cell_type": "code",
      "source": [
        "print(\"Mean value:\", df[\"Visitors\"].mean())\n",
        "print(\"Median value:\", df[\"Visitors\"].median())\n",
        "print(\"Mode value:\", df[\"Visitors\"].mode())"
      ],
      "metadata": {
        "colab": {
          "base_uri": "https://localhost:8080/"
        },
        "id": "uigEu4Vacpg1",
        "outputId": "6b7dac20-ea43-4cf4-b5ce-52ecd42c3fd5"
      },
      "execution_count": null,
      "outputs": [
        {
          "output_type": "stream",
          "name": "stdout",
          "text": [
            "Mean value: 5.071428571428571\n",
            "Median value: 1.0\n",
            "Mode value: 0    1.0\n",
            "dtype: float64\n"
          ]
        }
      ]
    },
    {
      "cell_type": "markdown",
      "source": [
        "**Data Cleaning**"
      ],
      "metadata": {
        "id": "xYFMIC-Qdb3l"
      }
    },
    {
      "cell_type": "code",
      "source": [
        "#delete null value\n",
        "new_df = df.dropna()\n",
        "print(df.to_string(),\"\\n\\n\\n\")\n",
        "print(new_df.to_string())"
      ],
      "metadata": {
        "colab": {
          "base_uri": "https://localhost:8080/"
        },
        "id": "F6rHJytcdfDu",
        "outputId": "2f20e5a5-ee92-4a7c-a9c7-78de02e9c757"
      },
      "execution_count": null,
      "outputs": [
        {
          "output_type": "stream",
          "name": "stdout",
          "text": [
            "   Topic of the Post  Impressions  Engagement rate\\nIn Percentage (%)  Share  Reactions  Comment  Click-through rate\\nIn Percentage (%)  Clicks                      Country Reached  Visitors  In Percentage (%)                     Industry Reached  Visitors.1  In Percentage (%).1                    Job Function  Visitors.2  In Percentage (%).2\n",
            "0               Poll        680.0                                 1.5    1.0        1.0      0.0                                    1.2    10.0             Riau Province, Indonesia      15.0               21.0  Information Technology and Services          35                   49                     Engineering        28.0                 39.0\n",
            "1   Managed Services         85.0                                 3.5    1.0        2.0      0.0                                    0.0     0.0             Greater Los Angeles Area       5.0                7.0                    Computer Software           9                   13          Information Technology        12.0                 17.0\n",
            "2               Blog        122.0                                 6.6    1.0        2.0      0.0                                    4.1     5.0  Raleigh-Durham, North Carolina Area       4.0                6.0                            Cosmetics           5                    7            Business Development         7.0                 10.0\n",
            "3               Poll        316.0                                 1.6    1.0        1.0      0.0                                    0.9     3.0                 Greater Seattle Area       2.0                3.0    Nonprofit Organization Management           3                    4                       Education         3.0                  4.0\n",
            "4               Blog        102.0                                 2.0    1.0        1.0      0.0                                    0.0     0.0                Burhanpur Area, India       2.0                3.0      Business Supplies and Equipment           3                    4                      Operations         3.0                  4.0\n",
            "5               blog         98.0                                 4.1    1.0        2.0      1.0                                    0.0     0.0                    Sydney, Australia       1.0                1.0                           E-Learning           2                    3  Program and Project Management         3.0                  4.0\n",
            "6                NaN          NaN                                 NaN    NaN        NaN      NaN                                    NaN     NaN          The Hague Area, Netherlands       1.0                1.0                Management Consulting           1                    1                           Sales         3.0                  4.0\n",
            "7                NaN          NaN                                 NaN    NaN        NaN      NaN                                    NaN     NaN         Cape Town Area, South Africa       1.0                1.0                    Apparel & Fashion           1                    1                        Research         2.0                  3.0\n",
            "8                NaN          NaN                                 NaN    NaN        NaN      NaN                                    NaN     NaN          Patos de Minas Area, Brazil       1.0                1.0                           Accounting           1                    1                      Consulting         1.0                  1.0\n",
            "9                NaN          NaN                                 NaN    NaN        NaN      NaN                                    NaN     NaN                   Kalyan Area, India       1.0                1.0                         Construction           1                    1                          Others         9.0                 13.0\n",
            "10               NaN          NaN                                 NaN    NaN        NaN      NaN                                    NaN     NaN                 Marmagao Area, India       1.0                1.0                           Automotive           1                    1                             NaN         NaN                  NaN\n",
            "11               NaN          NaN                                 NaN    NaN        NaN      NaN                                    NaN     NaN                   Selangor, Malaysia       1.0                1.0                     Higher Education           1                    1                             NaN         NaN                  NaN\n",
            "12               NaN          NaN                                 NaN    NaN        NaN      NaN                                    NaN     NaN  Bangkok Metropolitan Area, Thailand       1.0                1.0            Marketing and Advertising           1                    1                             NaN         NaN                  NaN\n",
            "13               NaN          NaN                                 NaN    NaN        NaN      NaN                                    NaN     NaN                                Other      35.0               49.0                Industrial Automation           1                    1                             NaN         NaN                  NaN\n",
            "14               NaN          NaN                                 NaN    NaN        NaN      NaN                                    NaN     NaN                                  NaN       NaN                NaN                               Others           6                    8                             NaN         NaN                  NaN \n",
            "\n",
            "\n",
            "\n",
            "  Topic of the Post  Impressions  Engagement rate\\nIn Percentage (%)  Share  Reactions  Comment  Click-through rate\\nIn Percentage (%)  Clicks                      Country Reached  Visitors  In Percentage (%)                     Industry Reached  Visitors.1  In Percentage (%).1                    Job Function  Visitors.2  In Percentage (%).2\n",
            "0              Poll        680.0                                 1.5    1.0        1.0      0.0                                    1.2    10.0             Riau Province, Indonesia      15.0               21.0  Information Technology and Services          35                   49                     Engineering        28.0                 39.0\n",
            "1  Managed Services         85.0                                 3.5    1.0        2.0      0.0                                    0.0     0.0             Greater Los Angeles Area       5.0                7.0                    Computer Software           9                   13          Information Technology        12.0                 17.0\n",
            "2              Blog        122.0                                 6.6    1.0        2.0      0.0                                    4.1     5.0  Raleigh-Durham, North Carolina Area       4.0                6.0                            Cosmetics           5                    7            Business Development         7.0                 10.0\n",
            "3              Poll        316.0                                 1.6    1.0        1.0      0.0                                    0.9     3.0                 Greater Seattle Area       2.0                3.0    Nonprofit Organization Management           3                    4                       Education         3.0                  4.0\n",
            "4              Blog        102.0                                 2.0    1.0        1.0      0.0                                    0.0     0.0                Burhanpur Area, India       2.0                3.0      Business Supplies and Equipment           3                    4                      Operations         3.0                  4.0\n",
            "5              blog         98.0                                 4.1    1.0        2.0      1.0                                    0.0     0.0                    Sydney, Australia       1.0                1.0                           E-Learning           2                    3  Program and Project Management         3.0                  4.0\n"
          ]
        }
      ]
    },
    {
      "cell_type": "code",
      "source": [
        "#replacing value\n",
        "df.fillna(0, inplace=True)\n",
        "print(df.to_string())"
      ],
      "metadata": {
        "colab": {
          "base_uri": "https://localhost:8080/"
        },
        "id": "7JMiuAygeHRG",
        "outputId": "9e572bc5-5f96-4638-9c3a-8b4e43540da4"
      },
      "execution_count": null,
      "outputs": [
        {
          "output_type": "stream",
          "name": "stdout",
          "text": [
            "   Topic of the Post  Impressions  Engagement rate\\nIn Percentage (%)  Share  Reactions  Comment  Click-through rate\\nIn Percentage (%)  Clicks                      Country Reached  Visitors  In Percentage (%)                     Industry Reached  Visitors.1  In Percentage (%).1                    Job Function  Visitors.2  In Percentage (%).2\n",
            "0               Poll        680.0                                 1.5    1.0        1.0      0.0                                    1.2    10.0             Riau Province, Indonesia      15.0               21.0  Information Technology and Services          35                   49                     Engineering        28.0                 39.0\n",
            "1   Managed Services         85.0                                 3.5    1.0        2.0      0.0                                    0.0     0.0             Greater Los Angeles Area       5.0                7.0                    Computer Software           9                   13          Information Technology        12.0                 17.0\n",
            "2               Blog        122.0                                 6.6    1.0        2.0      0.0                                    4.1     5.0  Raleigh-Durham, North Carolina Area       4.0                6.0                            Cosmetics           5                    7            Business Development         7.0                 10.0\n",
            "3               Poll        316.0                                 1.6    1.0        1.0      0.0                                    0.9     3.0                 Greater Seattle Area       2.0                3.0    Nonprofit Organization Management           3                    4                       Education         3.0                  4.0\n",
            "4               Blog        102.0                                 2.0    1.0        1.0      0.0                                    0.0     0.0                Burhanpur Area, India       2.0                3.0      Business Supplies and Equipment           3                    4                      Operations         3.0                  4.0\n",
            "5               blog         98.0                                 4.1    1.0        2.0      1.0                                    0.0     0.0                    Sydney, Australia       1.0                1.0                           E-Learning           2                    3  Program and Project Management         3.0                  4.0\n",
            "6                  0          0.0                                 0.0    0.0        0.0      0.0                                    0.0     0.0          The Hague Area, Netherlands       1.0                1.0                Management Consulting           1                    1                           Sales         3.0                  4.0\n",
            "7                  0          0.0                                 0.0    0.0        0.0      0.0                                    0.0     0.0         Cape Town Area, South Africa       1.0                1.0                    Apparel & Fashion           1                    1                        Research         2.0                  3.0\n",
            "8                  0          0.0                                 0.0    0.0        0.0      0.0                                    0.0     0.0          Patos de Minas Area, Brazil       1.0                1.0                           Accounting           1                    1                      Consulting         1.0                  1.0\n",
            "9                  0          0.0                                 0.0    0.0        0.0      0.0                                    0.0     0.0                   Kalyan Area, India       1.0                1.0                         Construction           1                    1                          Others         9.0                 13.0\n",
            "10                 0          0.0                                 0.0    0.0        0.0      0.0                                    0.0     0.0                 Marmagao Area, India       1.0                1.0                           Automotive           1                    1                               0         0.0                  0.0\n",
            "11                 0          0.0                                 0.0    0.0        0.0      0.0                                    0.0     0.0                   Selangor, Malaysia       1.0                1.0                     Higher Education           1                    1                               0         0.0                  0.0\n",
            "12                 0          0.0                                 0.0    0.0        0.0      0.0                                    0.0     0.0  Bangkok Metropolitan Area, Thailand       1.0                1.0            Marketing and Advertising           1                    1                               0         0.0                  0.0\n",
            "13                 0          0.0                                 0.0    0.0        0.0      0.0                                    0.0     0.0                                Other      35.0               49.0                Industrial Automation           1                    1                               0         0.0                  0.0\n",
            "14                 0          0.0                                 0.0    0.0        0.0      0.0                                    0.0     0.0                                    0       0.0                0.0                               Others           6                    8                               0         0.0                  0.0\n"
          ]
        }
      ]
    },
    {
      "cell_type": "code",
      "source": [
        "df[\"Impressions\"].fillna(0, inplace = True)\n",
        "print(df.to_string())"
      ],
      "metadata": {
        "colab": {
          "base_uri": "https://localhost:8080/"
        },
        "id": "bTbSFWxAeo2-",
        "outputId": "d9b13faa-325e-4270-c83d-b9f065d69107"
      },
      "execution_count": null,
      "outputs": [
        {
          "output_type": "stream",
          "name": "stdout",
          "text": [
            "   Topic of the Post  Impressions  Engagement rate\\nIn Percentage (%)  Share  Reactions  Comment  Click-through rate\\nIn Percentage (%)  Clicks                      Country Reached  Visitors  In Percentage (%)                     Industry Reached  Visitors.1  In Percentage (%).1                    Job Function  Visitors.2  In Percentage (%).2\n",
            "0               Poll        680.0                                 1.5    1.0        1.0      0.0                                    1.2    10.0             Riau Province, Indonesia      15.0               21.0  Information Technology and Services          35                   49                     Engineering        28.0                 39.0\n",
            "1   Managed Services         85.0                                 3.5    1.0        2.0      0.0                                    0.0     0.0             Greater Los Angeles Area       5.0                7.0                    Computer Software           9                   13          Information Technology        12.0                 17.0\n",
            "2               Blog        122.0                                 6.6    1.0        2.0      0.0                                    4.1     5.0  Raleigh-Durham, North Carolina Area       4.0                6.0                            Cosmetics           5                    7            Business Development         7.0                 10.0\n",
            "3               Poll        316.0                                 1.6    1.0        1.0      0.0                                    0.9     3.0                 Greater Seattle Area       2.0                3.0    Nonprofit Organization Management           3                    4                       Education         3.0                  4.0\n",
            "4               Blog        102.0                                 2.0    1.0        1.0      0.0                                    0.0     0.0                Burhanpur Area, India       2.0                3.0      Business Supplies and Equipment           3                    4                      Operations         3.0                  4.0\n",
            "5               blog         98.0                                 4.1    1.0        2.0      1.0                                    0.0     0.0                    Sydney, Australia       1.0                1.0                           E-Learning           2                    3  Program and Project Management         3.0                  4.0\n",
            "6                NaN          0.0                                 NaN    NaN        NaN      NaN                                    NaN     NaN          The Hague Area, Netherlands       1.0                1.0                Management Consulting           1                    1                           Sales         3.0                  4.0\n",
            "7                NaN          0.0                                 NaN    NaN        NaN      NaN                                    NaN     NaN         Cape Town Area, South Africa       1.0                1.0                    Apparel & Fashion           1                    1                        Research         2.0                  3.0\n",
            "8                NaN          0.0                                 NaN    NaN        NaN      NaN                                    NaN     NaN          Patos de Minas Area, Brazil       1.0                1.0                           Accounting           1                    1                      Consulting         1.0                  1.0\n",
            "9                NaN          0.0                                 NaN    NaN        NaN      NaN                                    NaN     NaN                   Kalyan Area, India       1.0                1.0                         Construction           1                    1                          Others         9.0                 13.0\n",
            "10               NaN          0.0                                 NaN    NaN        NaN      NaN                                    NaN     NaN                 Marmagao Area, India       1.0                1.0                           Automotive           1                    1                             NaN         NaN                  NaN\n",
            "11               NaN          0.0                                 NaN    NaN        NaN      NaN                                    NaN     NaN                   Selangor, Malaysia       1.0                1.0                     Higher Education           1                    1                             NaN         NaN                  NaN\n",
            "12               NaN          0.0                                 NaN    NaN        NaN      NaN                                    NaN     NaN  Bangkok Metropolitan Area, Thailand       1.0                1.0            Marketing and Advertising           1                    1                             NaN         NaN                  NaN\n",
            "13               NaN          0.0                                 NaN    NaN        NaN      NaN                                    NaN     NaN                                Other      35.0               49.0                Industrial Automation           1                    1                             NaN         NaN                  NaN\n",
            "14               NaN          0.0                                 NaN    NaN        NaN      NaN                                    NaN     NaN                                  NaN       NaN                NaN                               Others           6                    8                             NaN         NaN                  NaN\n"
          ]
        }
      ]
    },
    {
      "cell_type": "code",
      "source": [
        "df[\"Topic of the Post\"].fillna(\"Poll\", inplace = True)\n",
        "print(df.to_string())"
      ],
      "metadata": {
        "colab": {
          "base_uri": "https://localhost:8080/"
        },
        "id": "WIu6hZZpfDB_",
        "outputId": "6100e505-9f86-452b-a65b-7bb1dda94858"
      },
      "execution_count": null,
      "outputs": [
        {
          "output_type": "stream",
          "name": "stdout",
          "text": [
            "   Topic of the Post  Impressions  Engagement rate\\nIn Percentage (%)  Share  Reactions  Comment  Click-through rate\\nIn Percentage (%)  Clicks                      Country Reached  Visitors  In Percentage (%)                     Industry Reached  Visitors.1  In Percentage (%).1                    Job Function  Visitors.2  In Percentage (%).2\n",
            "0               Poll        680.0                                 1.5    1.0        1.0      0.0                                    1.2    10.0             Riau Province, Indonesia      15.0               21.0  Information Technology and Services          35                   49                     Engineering        28.0                 39.0\n",
            "1   Managed Services         85.0                                 3.5    1.0        2.0      0.0                                    0.0     0.0             Greater Los Angeles Area       5.0                7.0                    Computer Software           9                   13          Information Technology        12.0                 17.0\n",
            "2               Blog        122.0                                 6.6    1.0        2.0      0.0                                    4.1     5.0  Raleigh-Durham, North Carolina Area       4.0                6.0                            Cosmetics           5                    7            Business Development         7.0                 10.0\n",
            "3               Poll        316.0                                 1.6    1.0        1.0      0.0                                    0.9     3.0                 Greater Seattle Area       2.0                3.0    Nonprofit Organization Management           3                    4                       Education         3.0                  4.0\n",
            "4               Blog        102.0                                 2.0    1.0        1.0      0.0                                    0.0     0.0                Burhanpur Area, India       2.0                3.0      Business Supplies and Equipment           3                    4                      Operations         3.0                  4.0\n",
            "5               blog         98.0                                 4.1    1.0        2.0      1.0                                    0.0     0.0                    Sydney, Australia       1.0                1.0                           E-Learning           2                    3  Program and Project Management         3.0                  4.0\n",
            "6               Poll          0.0                                 NaN    NaN        NaN      NaN                                    NaN     NaN          The Hague Area, Netherlands       1.0                1.0                Management Consulting           1                    1                           Sales         3.0                  4.0\n",
            "7               Poll          0.0                                 NaN    NaN        NaN      NaN                                    NaN     NaN         Cape Town Area, South Africa       1.0                1.0                    Apparel & Fashion           1                    1                        Research         2.0                  3.0\n",
            "8               Poll          0.0                                 NaN    NaN        NaN      NaN                                    NaN     NaN          Patos de Minas Area, Brazil       1.0                1.0                           Accounting           1                    1                      Consulting         1.0                  1.0\n",
            "9               Poll          0.0                                 NaN    NaN        NaN      NaN                                    NaN     NaN                   Kalyan Area, India       1.0                1.0                         Construction           1                    1                          Others         9.0                 13.0\n",
            "10              Poll          0.0                                 NaN    NaN        NaN      NaN                                    NaN     NaN                 Marmagao Area, India       1.0                1.0                           Automotive           1                    1                             NaN         NaN                  NaN\n",
            "11              Poll          0.0                                 NaN    NaN        NaN      NaN                                    NaN     NaN                   Selangor, Malaysia       1.0                1.0                     Higher Education           1                    1                             NaN         NaN                  NaN\n",
            "12              Poll          0.0                                 NaN    NaN        NaN      NaN                                    NaN     NaN  Bangkok Metropolitan Area, Thailand       1.0                1.0            Marketing and Advertising           1                    1                             NaN         NaN                  NaN\n",
            "13              Poll          0.0                                 NaN    NaN        NaN      NaN                                    NaN     NaN                                Other      35.0               49.0                Industrial Automation           1                    1                             NaN         NaN                  NaN\n",
            "14              Poll          0.0                                 NaN    NaN        NaN      NaN                                    NaN     NaN                                  NaN       NaN                NaN                               Others           6                    8                             NaN         NaN                  NaN\n"
          ]
        }
      ]
    },
    {
      "cell_type": "markdown",
      "source": [
        "**Updating Value**"
      ],
      "metadata": {
        "id": "vQMckAKsfv9P"
      }
    },
    {
      "cell_type": "code",
      "source": [
        "df.loc[10, \"Topic of the Post\"] = \"Nothing\" #[#row, title of the col]\n",
        "print(df.to_string())"
      ],
      "metadata": {
        "colab": {
          "base_uri": "https://localhost:8080/"
        },
        "id": "G40UYxyRfvrH",
        "outputId": "5b2b08c9-cc82-4644-c8b4-fa854cafb6f5"
      },
      "execution_count": null,
      "outputs": [
        {
          "output_type": "stream",
          "name": "stdout",
          "text": [
            "   Topic of the Post  Impressions  Engagement rate\\nIn Percentage (%)  Share  Reactions  Comment  Click-through rate\\nIn Percentage (%)  Clicks                      Country Reached  Visitors  In Percentage (%)                     Industry Reached  Visitors.1  In Percentage (%).1                    Job Function  Visitors.2  In Percentage (%).2 Topic of the post\n",
            "0               Poll        680.0                                 1.5    1.0        1.0      0.0                                    1.2    10.0             Riau Province, Indonesia      15.0               21.0  Information Technology and Services          35                   49                     Engineering        28.0                 39.0               NaN\n",
            "1   Managed Services         85.0                                 3.5    1.0        2.0      0.0                                    0.0     0.0             Greater Los Angeles Area       5.0                7.0                    Computer Software           9                   13          Information Technology        12.0                 17.0               NaN\n",
            "2               Blog        122.0                                 6.6    1.0        2.0      0.0                                    4.1     5.0  Raleigh-Durham, North Carolina Area       4.0                6.0                            Cosmetics           5                    7            Business Development         7.0                 10.0               NaN\n",
            "3               Poll        316.0                                 1.6    1.0        1.0      0.0                                    0.9     3.0                 Greater Seattle Area       2.0                3.0    Nonprofit Organization Management           3                    4                       Education         3.0                  4.0               NaN\n",
            "4               Blog        102.0                                 2.0    1.0        1.0      0.0                                    0.0     0.0                Burhanpur Area, India       2.0                3.0      Business Supplies and Equipment           3                    4                      Operations         3.0                  4.0               NaN\n",
            "5               blog         98.0                                 4.1    1.0        2.0      1.0                                    0.0     0.0                    Sydney, Australia       1.0                1.0                           E-Learning           2                    3  Program and Project Management         3.0                  4.0               NaN\n",
            "6               Poll          0.0                                 NaN    NaN        NaN      NaN                                    NaN     NaN          The Hague Area, Netherlands       1.0                1.0                Management Consulting           1                    1                           Sales         3.0                  4.0               NaN\n",
            "7               Poll          0.0                                 NaN    NaN        NaN      NaN                                    NaN     NaN         Cape Town Area, South Africa       1.0                1.0                    Apparel & Fashion           1                    1                        Research         2.0                  3.0               NaN\n",
            "8               Poll          0.0                                 NaN    NaN        NaN      NaN                                    NaN     NaN          Patos de Minas Area, Brazil       1.0                1.0                           Accounting           1                    1                      Consulting         1.0                  1.0               NaN\n",
            "9               Poll          0.0                                 NaN    NaN        NaN      NaN                                    NaN     NaN                   Kalyan Area, India       1.0                1.0                         Construction           1                    1                          Others         9.0                 13.0               NaN\n",
            "10           Nothing          0.0                                 NaN    NaN        NaN      NaN                                    NaN     NaN                 Marmagao Area, India       1.0                1.0                           Automotive           1                    1                             NaN         NaN                  NaN           Nothing\n",
            "11              Poll          0.0                                 NaN    NaN        NaN      NaN                                    NaN     NaN                   Selangor, Malaysia       1.0                1.0                     Higher Education           1                    1                             NaN         NaN                  NaN               NaN\n",
            "12              Poll          0.0                                 NaN    NaN        NaN      NaN                                    NaN     NaN  Bangkok Metropolitan Area, Thailand       1.0                1.0            Marketing and Advertising           1                    1                             NaN         NaN                  NaN               NaN\n",
            "13              Poll          0.0                                 NaN    NaN        NaN      NaN                                    NaN     NaN                                Other      35.0               49.0                Industrial Automation           1                    1                             NaN         NaN                  NaN               NaN\n",
            "14              Poll          0.0                                 NaN    NaN        NaN      NaN                                    NaN     NaN                                  NaN       NaN                NaN                               Others           6                    8                             NaN         NaN                  NaN               NaN\n"
          ]
        }
      ]
    },
    {
      "cell_type": "markdown",
      "source": [
        "**Deleting Duplicate rows**"
      ],
      "metadata": {
        "id": "RyFQwu7LgRKI"
      }
    },
    {
      "cell_type": "code",
      "source": [
        "print(df.duplicated().to_string())"
      ],
      "metadata": {
        "colab": {
          "base_uri": "https://localhost:8080/"
        },
        "id": "NI0Bfr3bgVFv",
        "outputId": "183c595b-70e7-47f4-863d-4da0af193dbf"
      },
      "execution_count": null,
      "outputs": [
        {
          "output_type": "stream",
          "name": "stdout",
          "text": [
            "0     False\n",
            "1     False\n",
            "2     False\n",
            "3     False\n",
            "4     False\n",
            "5     False\n",
            "6     False\n",
            "7     False\n",
            "8     False\n",
            "9     False\n",
            "10    False\n",
            "11    False\n",
            "12    False\n",
            "13    False\n",
            "14    False\n"
          ]
        }
      ]
    },
    {
      "cell_type": "markdown",
      "source": [
        "**Remove if any duplicate exists**"
      ],
      "metadata": {
        "id": "d3kNtuXogw0f"
      }
    },
    {
      "cell_type": "code",
      "source": [
        "df.drop_duplicates(inplace=True)\n",
        "print(df.duplicated().to_string())"
      ],
      "metadata": {
        "colab": {
          "base_uri": "https://localhost:8080/"
        },
        "id": "4MsNWrDUgi2Y",
        "outputId": "3545f1c2-0d8d-4fdd-bded-49aa35730e6c"
      },
      "execution_count": null,
      "outputs": [
        {
          "output_type": "stream",
          "name": "stdout",
          "text": [
            "0     False\n",
            "1     False\n",
            "2     False\n",
            "3     False\n",
            "4     False\n",
            "5     False\n",
            "6     False\n",
            "7     False\n",
            "8     False\n",
            "9     False\n",
            "10    False\n",
            "11    False\n",
            "12    False\n",
            "13    False\n",
            "14    False\n"
          ]
        }
      ]
    },
    {
      "cell_type": "markdown",
      "source": [
        "**Correlation btw 2 attributes x & y [value 0 to 1]**\n",
        "*   Correlation(0) = no relation btw x & y\n",
        "*   Correlation(1) = highest relation btw x & y\n",
        "*   Correlation(-1) = also strongly correlated\n",
        "*   if x increase & y increase = Positive Correlation"
      ],
      "metadata": {
        "id": "ya8PgsjWhpxI"
      }
    },
    {
      "cell_type": "code",
      "source": [
        "df.corr()"
      ],
      "metadata": {
        "colab": {
          "base_uri": "https://localhost:8080/",
          "height": 727
        },
        "id": "ndLHMli4jSJw",
        "outputId": "dcd78a21-d782-41f8-886b-2494c798d7d8"
      },
      "execution_count": null,
      "outputs": [
        {
          "output_type": "execute_result",
          "data": {
            "text/plain": [
              "                                       Impressions  \\\n",
              "Impressions                               1.000000   \n",
              "Engagement rate\\nIn Percentage (%)       -0.553114   \n",
              "Share                                          NaN   \n",
              "Reactions                                -0.615890   \n",
              "Comment                                  -0.283076   \n",
              "Click-through rate\\nIn Percentage (%)     0.080668   \n",
              "Clicks                                    0.882479   \n",
              "Visitors                                  0.862729   \n",
              "In Percentage (%)                         0.861777   \n",
              "Visitors.1                                0.887971   \n",
              "In Percentage (%).1                       0.883534   \n",
              "Visitors.2                                0.812267   \n",
              "In Percentage (%).2                       0.805558   \n",
              "\n",
              "                                       Engagement rate\\nIn Percentage (%)  \\\n",
              "Impressions                                                     -0.553114   \n",
              "Engagement rate\\nIn Percentage (%)                               1.000000   \n",
              "Share                                                                 NaN   \n",
              "Reactions                                                        0.844586   \n",
              "Comment                                                          0.219985   \n",
              "Click-through rate\\nIn Percentage (%)                            0.661905   \n",
              "Clicks                                                          -0.129629   \n",
              "Visitors                                                        -0.305098   \n",
              "In Percentage (%)                                               -0.298722   \n",
              "Visitors.1                                                      -0.377880   \n",
              "In Percentage (%).1                                             -0.372670   \n",
              "Visitors.2                                                      -0.278054   \n",
              "In Percentage (%).2                                             -0.267116   \n",
              "\n",
              "                                       Share  Reactions   Comment  \\\n",
              "Impressions                              NaN  -0.615890 -0.283076   \n",
              "Engagement rate\\nIn Percentage (%)       NaN   0.844586  0.219985   \n",
              "Share                                    NaN        NaN       NaN   \n",
              "Reactions                                NaN   1.000000  0.447214   \n",
              "Comment                                  NaN   0.447214  1.000000   \n",
              "Click-through rate\\nIn Percentage (%)    NaN   0.229537 -0.318221   \n",
              "Clicks                                   NaN  -0.365148 -0.367423   \n",
              "Visitors                                 NaN  -0.316423 -0.361633   \n",
              "In Percentage (%)                        NaN  -0.326123 -0.392664   \n",
              "Visitors.1                               NaN  -0.358278 -0.288408   \n",
              "In Percentage (%).1                      NaN  -0.347736 -0.283581   \n",
              "Visitors.2                               NaN  -0.223297 -0.316228   \n",
              "In Percentage (%).2                      NaN  -0.212598 -0.320883   \n",
              "\n",
              "                                       Click-through rate\\nIn Percentage (%)  \\\n",
              "Impressions                                                         0.080668   \n",
              "Engagement rate\\nIn Percentage (%)                                  0.661905   \n",
              "Share                                                                    NaN   \n",
              "Reactions                                                           0.229537   \n",
              "Comment                                                            -0.318221   \n",
              "Click-through rate\\nIn Percentage (%)                               1.000000   \n",
              "Clicks                                                              0.521748   \n",
              "Visitors                                                            0.150910   \n",
              "In Percentage (%)                                                   0.175051   \n",
              "Visitors.1                                                          0.062172   \n",
              "In Percentage (%).1                                                 0.059394   \n",
              "Visitors.2                                                          0.091404   \n",
              "In Percentage (%).2                                                 0.098818   \n",
              "\n",
              "                                         Clicks  Visitors  In Percentage (%)  \\\n",
              "Impressions                            0.882479  0.862729           0.861777   \n",
              "Engagement rate\\nIn Percentage (%)    -0.129629 -0.305098          -0.298722   \n",
              "Share                                       NaN       NaN                NaN   \n",
              "Reactions                             -0.365148 -0.316423          -0.326123   \n",
              "Comment                               -0.367423 -0.361633          -0.392664   \n",
              "Click-through rate\\nIn Percentage (%)  0.521748  0.150910           0.175051   \n",
              "Clicks                                 1.000000  0.856932           0.865644   \n",
              "Visitors                               0.856932  1.000000           0.999782   \n",
              "In Percentage (%)                      0.865644  0.999782           1.000000   \n",
              "Visitors.1                             0.835969  0.287024           0.291854   \n",
              "In Percentage (%).1                    0.831875  0.284259           0.289250   \n",
              "Visitors.2                             0.794981  0.954708           0.948199   \n",
              "In Percentage (%).2                    0.793278  0.949927           0.943525   \n",
              "\n",
              "                                       Visitors.1  In Percentage (%).1  \\\n",
              "Impressions                              0.887971             0.883534   \n",
              "Engagement rate\\nIn Percentage (%)      -0.377880            -0.372670   \n",
              "Share                                         NaN                  NaN   \n",
              "Reactions                               -0.358278            -0.347736   \n",
              "Comment                                 -0.288408            -0.283581   \n",
              "Click-through rate\\nIn Percentage (%)    0.062172             0.059394   \n",
              "Clicks                                   0.835969             0.831875   \n",
              "Visitors                                 0.287024             0.284259   \n",
              "In Percentage (%)                        0.291854             0.289250   \n",
              "Visitors.1                               1.000000             0.999815   \n",
              "In Percentage (%).1                      0.999815             1.000000   \n",
              "Visitors.2                               0.952248             0.952958   \n",
              "In Percentage (%).2                      0.946318             0.947091   \n",
              "\n",
              "                                       Visitors.2  In Percentage (%).2  \n",
              "Impressions                              0.812267             0.805558  \n",
              "Engagement rate\\nIn Percentage (%)      -0.278054            -0.267116  \n",
              "Share                                         NaN                  NaN  \n",
              "Reactions                               -0.223297            -0.212598  \n",
              "Comment                                 -0.316228            -0.320883  \n",
              "Click-through rate\\nIn Percentage (%)    0.091404             0.098818  \n",
              "Clicks                                   0.794981             0.793278  \n",
              "Visitors                                 0.954708             0.949927  \n",
              "In Percentage (%)                        0.948199             0.943525  \n",
              "Visitors.1                               0.952248             0.946318  \n",
              "In Percentage (%).1                      0.952958             0.947091  \n",
              "Visitors.2                               1.000000             0.999738  \n",
              "In Percentage (%).2                      0.999738             1.000000  "
            ],
            "text/html": [
              "\n",
              "  <div id=\"df-11e32016-5c3a-450f-a1e0-69cedde662e4\">\n",
              "    <div class=\"colab-df-container\">\n",
              "      <div>\n",
              "<style scoped>\n",
              "    .dataframe tbody tr th:only-of-type {\n",
              "        vertical-align: middle;\n",
              "    }\n",
              "\n",
              "    .dataframe tbody tr th {\n",
              "        vertical-align: top;\n",
              "    }\n",
              "\n",
              "    .dataframe thead th {\n",
              "        text-align: right;\n",
              "    }\n",
              "</style>\n",
              "<table border=\"1\" class=\"dataframe\">\n",
              "  <thead>\n",
              "    <tr style=\"text-align: right;\">\n",
              "      <th></th>\n",
              "      <th>Impressions</th>\n",
              "      <th>Engagement rate\\nIn Percentage (%)</th>\n",
              "      <th>Share</th>\n",
              "      <th>Reactions</th>\n",
              "      <th>Comment</th>\n",
              "      <th>Click-through rate\\nIn Percentage (%)</th>\n",
              "      <th>Clicks</th>\n",
              "      <th>Visitors</th>\n",
              "      <th>In Percentage (%)</th>\n",
              "      <th>Visitors.1</th>\n",
              "      <th>In Percentage (%).1</th>\n",
              "      <th>Visitors.2</th>\n",
              "      <th>In Percentage (%).2</th>\n",
              "    </tr>\n",
              "  </thead>\n",
              "  <tbody>\n",
              "    <tr>\n",
              "      <th>Impressions</th>\n",
              "      <td>1.000000</td>\n",
              "      <td>-0.553114</td>\n",
              "      <td>NaN</td>\n",
              "      <td>-0.615890</td>\n",
              "      <td>-0.283076</td>\n",
              "      <td>0.080668</td>\n",
              "      <td>0.882479</td>\n",
              "      <td>0.862729</td>\n",
              "      <td>0.861777</td>\n",
              "      <td>0.887971</td>\n",
              "      <td>0.883534</td>\n",
              "      <td>0.812267</td>\n",
              "      <td>0.805558</td>\n",
              "    </tr>\n",
              "    <tr>\n",
              "      <th>Engagement rate\\nIn Percentage (%)</th>\n",
              "      <td>-0.553114</td>\n",
              "      <td>1.000000</td>\n",
              "      <td>NaN</td>\n",
              "      <td>0.844586</td>\n",
              "      <td>0.219985</td>\n",
              "      <td>0.661905</td>\n",
              "      <td>-0.129629</td>\n",
              "      <td>-0.305098</td>\n",
              "      <td>-0.298722</td>\n",
              "      <td>-0.377880</td>\n",
              "      <td>-0.372670</td>\n",
              "      <td>-0.278054</td>\n",
              "      <td>-0.267116</td>\n",
              "    </tr>\n",
              "    <tr>\n",
              "      <th>Share</th>\n",
              "      <td>NaN</td>\n",
              "      <td>NaN</td>\n",
              "      <td>NaN</td>\n",
              "      <td>NaN</td>\n",
              "      <td>NaN</td>\n",
              "      <td>NaN</td>\n",
              "      <td>NaN</td>\n",
              "      <td>NaN</td>\n",
              "      <td>NaN</td>\n",
              "      <td>NaN</td>\n",
              "      <td>NaN</td>\n",
              "      <td>NaN</td>\n",
              "      <td>NaN</td>\n",
              "    </tr>\n",
              "    <tr>\n",
              "      <th>Reactions</th>\n",
              "      <td>-0.615890</td>\n",
              "      <td>0.844586</td>\n",
              "      <td>NaN</td>\n",
              "      <td>1.000000</td>\n",
              "      <td>0.447214</td>\n",
              "      <td>0.229537</td>\n",
              "      <td>-0.365148</td>\n",
              "      <td>-0.316423</td>\n",
              "      <td>-0.326123</td>\n",
              "      <td>-0.358278</td>\n",
              "      <td>-0.347736</td>\n",
              "      <td>-0.223297</td>\n",
              "      <td>-0.212598</td>\n",
              "    </tr>\n",
              "    <tr>\n",
              "      <th>Comment</th>\n",
              "      <td>-0.283076</td>\n",
              "      <td>0.219985</td>\n",
              "      <td>NaN</td>\n",
              "      <td>0.447214</td>\n",
              "      <td>1.000000</td>\n",
              "      <td>-0.318221</td>\n",
              "      <td>-0.367423</td>\n",
              "      <td>-0.361633</td>\n",
              "      <td>-0.392664</td>\n",
              "      <td>-0.288408</td>\n",
              "      <td>-0.283581</td>\n",
              "      <td>-0.316228</td>\n",
              "      <td>-0.320883</td>\n",
              "    </tr>\n",
              "    <tr>\n",
              "      <th>Click-through rate\\nIn Percentage (%)</th>\n",
              "      <td>0.080668</td>\n",
              "      <td>0.661905</td>\n",
              "      <td>NaN</td>\n",
              "      <td>0.229537</td>\n",
              "      <td>-0.318221</td>\n",
              "      <td>1.000000</td>\n",
              "      <td>0.521748</td>\n",
              "      <td>0.150910</td>\n",
              "      <td>0.175051</td>\n",
              "      <td>0.062172</td>\n",
              "      <td>0.059394</td>\n",
              "      <td>0.091404</td>\n",
              "      <td>0.098818</td>\n",
              "    </tr>\n",
              "    <tr>\n",
              "      <th>Clicks</th>\n",
              "      <td>0.882479</td>\n",
              "      <td>-0.129629</td>\n",
              "      <td>NaN</td>\n",
              "      <td>-0.365148</td>\n",
              "      <td>-0.367423</td>\n",
              "      <td>0.521748</td>\n",
              "      <td>1.000000</td>\n",
              "      <td>0.856932</td>\n",
              "      <td>0.865644</td>\n",
              "      <td>0.835969</td>\n",
              "      <td>0.831875</td>\n",
              "      <td>0.794981</td>\n",
              "      <td>0.793278</td>\n",
              "    </tr>\n",
              "    <tr>\n",
              "      <th>Visitors</th>\n",
              "      <td>0.862729</td>\n",
              "      <td>-0.305098</td>\n",
              "      <td>NaN</td>\n",
              "      <td>-0.316423</td>\n",
              "      <td>-0.361633</td>\n",
              "      <td>0.150910</td>\n",
              "      <td>0.856932</td>\n",
              "      <td>1.000000</td>\n",
              "      <td>0.999782</td>\n",
              "      <td>0.287024</td>\n",
              "      <td>0.284259</td>\n",
              "      <td>0.954708</td>\n",
              "      <td>0.949927</td>\n",
              "    </tr>\n",
              "    <tr>\n",
              "      <th>In Percentage (%)</th>\n",
              "      <td>0.861777</td>\n",
              "      <td>-0.298722</td>\n",
              "      <td>NaN</td>\n",
              "      <td>-0.326123</td>\n",
              "      <td>-0.392664</td>\n",
              "      <td>0.175051</td>\n",
              "      <td>0.865644</td>\n",
              "      <td>0.999782</td>\n",
              "      <td>1.000000</td>\n",
              "      <td>0.291854</td>\n",
              "      <td>0.289250</td>\n",
              "      <td>0.948199</td>\n",
              "      <td>0.943525</td>\n",
              "    </tr>\n",
              "    <tr>\n",
              "      <th>Visitors.1</th>\n",
              "      <td>0.887971</td>\n",
              "      <td>-0.377880</td>\n",
              "      <td>NaN</td>\n",
              "      <td>-0.358278</td>\n",
              "      <td>-0.288408</td>\n",
              "      <td>0.062172</td>\n",
              "      <td>0.835969</td>\n",
              "      <td>0.287024</td>\n",
              "      <td>0.291854</td>\n",
              "      <td>1.000000</td>\n",
              "      <td>0.999815</td>\n",
              "      <td>0.952248</td>\n",
              "      <td>0.946318</td>\n",
              "    </tr>\n",
              "    <tr>\n",
              "      <th>In Percentage (%).1</th>\n",
              "      <td>0.883534</td>\n",
              "      <td>-0.372670</td>\n",
              "      <td>NaN</td>\n",
              "      <td>-0.347736</td>\n",
              "      <td>-0.283581</td>\n",
              "      <td>0.059394</td>\n",
              "      <td>0.831875</td>\n",
              "      <td>0.284259</td>\n",
              "      <td>0.289250</td>\n",
              "      <td>0.999815</td>\n",
              "      <td>1.000000</td>\n",
              "      <td>0.952958</td>\n",
              "      <td>0.947091</td>\n",
              "    </tr>\n",
              "    <tr>\n",
              "      <th>Visitors.2</th>\n",
              "      <td>0.812267</td>\n",
              "      <td>-0.278054</td>\n",
              "      <td>NaN</td>\n",
              "      <td>-0.223297</td>\n",
              "      <td>-0.316228</td>\n",
              "      <td>0.091404</td>\n",
              "      <td>0.794981</td>\n",
              "      <td>0.954708</td>\n",
              "      <td>0.948199</td>\n",
              "      <td>0.952248</td>\n",
              "      <td>0.952958</td>\n",
              "      <td>1.000000</td>\n",
              "      <td>0.999738</td>\n",
              "    </tr>\n",
              "    <tr>\n",
              "      <th>In Percentage (%).2</th>\n",
              "      <td>0.805558</td>\n",
              "      <td>-0.267116</td>\n",
              "      <td>NaN</td>\n",
              "      <td>-0.212598</td>\n",
              "      <td>-0.320883</td>\n",
              "      <td>0.098818</td>\n",
              "      <td>0.793278</td>\n",
              "      <td>0.949927</td>\n",
              "      <td>0.943525</td>\n",
              "      <td>0.946318</td>\n",
              "      <td>0.947091</td>\n",
              "      <td>0.999738</td>\n",
              "      <td>1.000000</td>\n",
              "    </tr>\n",
              "  </tbody>\n",
              "</table>\n",
              "</div>\n",
              "      <button class=\"colab-df-convert\" onclick=\"convertToInteractive('df-11e32016-5c3a-450f-a1e0-69cedde662e4')\"\n",
              "              title=\"Convert this dataframe to an interactive table.\"\n",
              "              style=\"display:none;\">\n",
              "        \n",
              "  <svg xmlns=\"http://www.w3.org/2000/svg\" height=\"24px\"viewBox=\"0 0 24 24\"\n",
              "       width=\"24px\">\n",
              "    <path d=\"M0 0h24v24H0V0z\" fill=\"none\"/>\n",
              "    <path d=\"M18.56 5.44l.94 2.06.94-2.06 2.06-.94-2.06-.94-.94-2.06-.94 2.06-2.06.94zm-11 1L8.5 8.5l.94-2.06 2.06-.94-2.06-.94L8.5 2.5l-.94 2.06-2.06.94zm10 10l.94 2.06.94-2.06 2.06-.94-2.06-.94-.94-2.06-.94 2.06-2.06.94z\"/><path d=\"M17.41 7.96l-1.37-1.37c-.4-.4-.92-.59-1.43-.59-.52 0-1.04.2-1.43.59L10.3 9.45l-7.72 7.72c-.78.78-.78 2.05 0 2.83L4 21.41c.39.39.9.59 1.41.59.51 0 1.02-.2 1.41-.59l7.78-7.78 2.81-2.81c.8-.78.8-2.07 0-2.86zM5.41 20L4 18.59l7.72-7.72 1.47 1.35L5.41 20z\"/>\n",
              "  </svg>\n",
              "      </button>\n",
              "      \n",
              "  <style>\n",
              "    .colab-df-container {\n",
              "      display:flex;\n",
              "      flex-wrap:wrap;\n",
              "      gap: 12px;\n",
              "    }\n",
              "\n",
              "    .colab-df-convert {\n",
              "      background-color: #E8F0FE;\n",
              "      border: none;\n",
              "      border-radius: 50%;\n",
              "      cursor: pointer;\n",
              "      display: none;\n",
              "      fill: #1967D2;\n",
              "      height: 32px;\n",
              "      padding: 0 0 0 0;\n",
              "      width: 32px;\n",
              "    }\n",
              "\n",
              "    .colab-df-convert:hover {\n",
              "      background-color: #E2EBFA;\n",
              "      box-shadow: 0px 1px 2px rgba(60, 64, 67, 0.3), 0px 1px 3px 1px rgba(60, 64, 67, 0.15);\n",
              "      fill: #174EA6;\n",
              "    }\n",
              "\n",
              "    [theme=dark] .colab-df-convert {\n",
              "      background-color: #3B4455;\n",
              "      fill: #D2E3FC;\n",
              "    }\n",
              "\n",
              "    [theme=dark] .colab-df-convert:hover {\n",
              "      background-color: #434B5C;\n",
              "      box-shadow: 0px 1px 3px 1px rgba(0, 0, 0, 0.15);\n",
              "      filter: drop-shadow(0px 1px 2px rgba(0, 0, 0, 0.3));\n",
              "      fill: #FFFFFF;\n",
              "    }\n",
              "  </style>\n",
              "\n",
              "      <script>\n",
              "        const buttonEl =\n",
              "          document.querySelector('#df-11e32016-5c3a-450f-a1e0-69cedde662e4 button.colab-df-convert');\n",
              "        buttonEl.style.display =\n",
              "          google.colab.kernel.accessAllowed ? 'block' : 'none';\n",
              "\n",
              "        async function convertToInteractive(key) {\n",
              "          const element = document.querySelector('#df-11e32016-5c3a-450f-a1e0-69cedde662e4');\n",
              "          const dataTable =\n",
              "            await google.colab.kernel.invokeFunction('convertToInteractive',\n",
              "                                                     [key], {});\n",
              "          if (!dataTable) return;\n",
              "\n",
              "          const docLinkHtml = 'Like what you see? Visit the ' +\n",
              "            '<a target=\"_blank\" href=https://colab.research.google.com/notebooks/data_table.ipynb>data table notebook</a>'\n",
              "            + ' to learn more about interactive tables.';\n",
              "          element.innerHTML = '';\n",
              "          dataTable['output_type'] = 'display_data';\n",
              "          await google.colab.output.renderOutput(dataTable, element);\n",
              "          const docLink = document.createElement('div');\n",
              "          docLink.innerHTML = docLinkHtml;\n",
              "          element.appendChild(docLink);\n",
              "        }\n",
              "      </script>\n",
              "    </div>\n",
              "  </div>\n",
              "  "
            ]
          },
          "metadata": {},
          "execution_count": 345
        }
      ]
    },
    {
      "cell_type": "markdown",
      "source": [
        "Plotting"
      ],
      "metadata": {
        "id": "iY-rPimyjnt4"
      }
    },
    {
      "cell_type": "code",
      "source": [
        "df.plot()"
      ],
      "metadata": {
        "colab": {
          "base_uri": "https://localhost:8080/",
          "height": 282
        },
        "id": "7hdLbuDNjmgg",
        "outputId": "69c6b3ed-bc91-4ce3-a631-a1ecb79807fb"
      },
      "execution_count": null,
      "outputs": [
        {
          "output_type": "execute_result",
          "data": {
            "text/plain": [
              "<matplotlib.axes._subplots.AxesSubplot at 0x7fd895a9fc10>"
            ]
          },
          "metadata": {},
          "execution_count": 346
        },
        {
          "output_type": "display_data",
          "data": {
            "text/plain": [
              "<Figure size 432x288 with 1 Axes>"
            ],
            "image/png": "[encoded data removed]"
          },
          "metadata": {
            "needs_background": "light"
          }
        }
      ]
    },
    {
      "cell_type": "markdown",
      "source": [
        "**Finding Correlation**"
      ],
      "metadata": {
        "id": "7kw-JQN_khtS"
      }
    },
    {
      "cell_type": "code",
      "source": [
        "print(df.to_string())"
      ],
      "metadata": {
        "colab": {
          "base_uri": "https://localhost:8080/"
        },
        "id": "pEc4R1tJkrgJ",
        "outputId": "6aed983a-9c73-41f2-9faa-7cff1bfd2bac"
      },
      "execution_count": null,
      "outputs": [
        {
          "output_type": "stream",
          "name": "stdout",
          "text": [
            "   Topic of the Post  Impressions  Engagement rate\\nIn Percentage (%)  Share  Reactions  Comment  Click-through rate\\nIn Percentage (%)  Clicks                      Country Reached  Visitors  In Percentage (%)                     Industry Reached  Visitors.1  In Percentage (%).1                    Job Function  Visitors.2  In Percentage (%).2\n",
            "0               Poll        680.0                                 1.5    1.0        1.0      0.0                                    1.2    10.0             Riau Province, Indonesia      15.0               21.0  Information Technology and Services          35                   49                     Engineering        28.0                 39.0\n",
            "1   Managed Services         85.0                                 3.5    1.0        2.0      0.0                                    0.0     0.0             Greater Los Angeles Area       5.0                7.0                    Computer Software           9                   13          Information Technology        12.0                 17.0\n",
            "2               Blog        122.0                                 6.6    1.0        2.0      0.0                                    4.1     5.0  Raleigh-Durham, North Carolina Area       4.0                6.0                            Cosmetics           5                    7            Business Development         7.0                 10.0\n",
            "3               Poll        316.0                                 1.6    1.0        1.0      0.0                                    0.9     3.0                 Greater Seattle Area       2.0                3.0    Nonprofit Organization Management           3                    4                       Education         3.0                  4.0\n",
            "4               Blog        102.0                                 2.0    1.0        1.0      0.0                                    0.0     0.0                Burhanpur Area, India       2.0                3.0      Business Supplies and Equipment           3                    4                      Operations         3.0                  4.0\n",
            "5               blog         98.0                                 4.1    1.0        2.0      1.0                                    0.0     0.0                    Sydney, Australia       1.0                1.0                           E-Learning           2                    3  Program and Project Management         3.0                  4.0\n",
            "6                NaN          NaN                                 NaN    NaN        NaN      NaN                                    NaN     NaN          The Hague Area, Netherlands       1.0                1.0                Management Consulting           1                    1                           Sales         3.0                  4.0\n",
            "7                NaN          NaN                                 NaN    NaN        NaN      NaN                                    NaN     NaN         Cape Town Area, South Africa       1.0                1.0                    Apparel & Fashion           1                    1                        Research         2.0                  3.0\n",
            "8                NaN          NaN                                 NaN    NaN        NaN      NaN                                    NaN     NaN          Patos de Minas Area, Brazil       1.0                1.0                           Accounting           1                    1                      Consulting         1.0                  1.0\n",
            "9                NaN          NaN                                 NaN    NaN        NaN      NaN                                    NaN     NaN                   Kalyan Area, India       1.0                1.0                         Construction           1                    1                          Others         9.0                 13.0\n",
            "10               NaN          NaN                                 NaN    NaN        NaN      NaN                                    NaN     NaN                 Marmagao Area, India       1.0                1.0                           Automotive           1                    1                             NaN         NaN                  NaN\n",
            "11               NaN          NaN                                 NaN    NaN        NaN      NaN                                    NaN     NaN                   Selangor, Malaysia       1.0                1.0                     Higher Education           1                    1                             NaN         NaN                  NaN\n",
            "12               NaN          NaN                                 NaN    NaN        NaN      NaN                                    NaN     NaN  Bangkok Metropolitan Area, Thailand       1.0                1.0            Marketing and Advertising           1                    1                             NaN         NaN                  NaN\n",
            "13               NaN          NaN                                 NaN    NaN        NaN      NaN                                    NaN     NaN                                Other      35.0               49.0                Industrial Automation           1                    1                             NaN         NaN                  NaN\n",
            "14               NaN          NaN                                 NaN    NaN        NaN      NaN                                    NaN     NaN                                  NaN       NaN                NaN                               Others           6                    8                             NaN         NaN                  NaN\n"
          ]
        }
      ]
    },
    {
      "cell_type": "code",
      "source": [
        "df.plot(kind=\"scatter\", x=\"Visitors\", y=\"Visitors.1\")"
      ],
      "metadata": {
        "colab": {
          "base_uri": "https://localhost:8080/",
          "height": 296
        },
        "id": "GepgXjXWjubw",
        "outputId": "261a4aed-802a-4a7f-b02a-70234adc1bb5"
      },
      "execution_count": null,
      "outputs": [
        {
          "output_type": "execute_result",
          "data": {
            "text/plain": [
              "<matplotlib.axes._subplots.AxesSubplot at 0x7fd895281410>"
            ]
          },
          "metadata": {},
          "execution_count": 352
        },
        {
          "output_type": "display_data",
          "data": {
            "text/plain": [
              "<Figure size 432x288 with 1 Axes>"
            ],
            "image/png": "[encoded data removed]"
          },
          "metadata": {
            "needs_background": "light"
          }
        }
      ]
    },
    {
      "cell_type": "code",
      "source": [
        "df[\"Visitors.2\"].plot(kind=\"hist\")"
      ],
      "metadata": {
        "colab": {
          "base_uri": "https://localhost:8080/",
          "height": 282
        },
        "id": "4RJFhBa9k4yp",
        "outputId": "a19113d4-c6ca-4b01-e477-5de0aed5fb9c"
      },
      "execution_count": null,
      "outputs": [
        {
          "output_type": "execute_result",
          "data": {
            "text/plain": [
              "<matplotlib.axes._subplots.AxesSubplot at 0x7fd89526df90>"
            ]
          },
          "metadata": {},
          "execution_count": 353
        },
        {
          "output_type": "display_data",
          "data": {
            "text/plain": [
              "<Figure size 432x288 with 1 Axes>"
            ],
            "image/png": "[encoded data removed]"
          },
          "metadata": {
            "needs_background": "light"
          }
        }
      ]
    }
  ]
}
